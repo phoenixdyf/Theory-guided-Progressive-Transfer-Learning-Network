{
 "cells": [
  {
   "cell_type": "markdown",
   "metadata": {},
   "source": [
    "# Load the dataset"
   ]
  },
  {
   "cell_type": "code",
   "execution_count": 1,
   "metadata": {},
   "outputs": [],
   "source": [
    "import numpy as np\n",
    "import matplotlib.pyplot as plt\n",
    "X_0 = np.load(\"./bearingset/raw/PDB_0_FFT.npy\")\n",
    "X_1 = np.load(\"./bearingset/raw/PDB_1_FFT.npy\")\n",
    "X_2 = np.load(\"./bearingset/raw/PDB_2_FFT.npy\")\n",
    "X_3 = np.load(\"./bearingset/raw/PDB_3_FFT.npy\")\n",
    "\n",
    "F_0 = np.load(\"./bearingset/raw/FFT_0.npy\")\n",
    "F_1 = np.load(\"./bearingset/raw/FFT_1.npy\")\n",
    "F_2 = np.load(\"./bearingset/raw/FFT_2.npy\")\n",
    "F_3 = np.load(\"./bearingset/raw/FFT_3.npy\")\n",
    "\n",
    "Y = np.zeros((8000,8))\n",
    "for i in range(8):\n",
    "    Y[1000*i:1000*i+1000,i]=1\n",
    "np.save(\"./bearingset/data/Label.npy\",Y)    \n",
    "Y_image = np.zeros((800,8))\n",
    "for i in range(8):\n",
    "    Y_image[100*i:100*i+100,i]=1\n",
    "np.save(\"./bearingset/data/Label_image.npy\",Y_image)"
   ]
  },
  {
   "cell_type": "markdown",
   "metadata": {},
   "source": [
    "# Build the OSDT task-1"
   ]
  },
  {
   "cell_type": "markdown",
   "metadata": {},
   "source": [
    "source Domain:\n",
    "1,2,3,4,6,7,8\n",
    "\n",
    "target Domain:\n",
    "1,2,3,4,**5**,6,7,8"
   ]
  },
  {
   "cell_type": "code",
   "execution_count": 2,
   "metadata": {},
   "outputs": [],
   "source": [
    "def T1(X_0,X_1,X_2,X_3,transfer_num):\n",
    "    if transfer_num == 0:\n",
    "    # Transfer 0 - 1 \n",
    "        source = np.vstack((X_0[0:100],X_0[100:200],X_0[200:300],X_0[300:400],X_0[500:600],X_0[600:700],X_0[700:800],X_0[700:800]))\n",
    "        target = np.vstack((X_1[0:100],X_1[100:200],X_1[200:300],X_1[300:400],X_1[500:600],X_1[600:700],X_1[700:800],X_1[400:500]))\n",
    "    if transfer_num == 1:\n",
    "    # Transfer 0 - 2 \n",
    "        source = np.vstack((X_0[0:100],X_0[100:200],X_0[200:300],X_0[300:400],X_0[500:600],X_0[600:700],X_0[700:800],X_0[700:800]))\n",
    "        target = np.vstack((X_2[0:100],X_2[100:200],X_2[200:300],X_2[300:400],X_2[500:600],X_2[600:700],X_2[700:800],X_2[400:500]))\n",
    "    if transfer_num == 2:\n",
    "    # Transfer 0 - 3 \n",
    "        source = np.vstack((X_0[0:100],X_0[100:200],X_0[200:300],X_0[300:400],X_0[500:600],X_0[600:700],X_0[700:800],X_0[700:800]))\n",
    "        target = np.vstack((X_3[0:100],X_3[100:200],X_3[200:300],X_3[300:400],X_3[500:600],X_3[600:700],X_3[700:800],X_3[400:500]))\n",
    "    if transfer_num == 3:\n",
    "    # Transfer 1 - 2 \n",
    "        source = np.vstack((X_1[0:100],X_1[100:200],X_1[200:300],X_1[300:400],X_1[500:600],X_1[600:700],X_1[700:800],X_1[700:800]))\n",
    "        target = np.vstack((X_2[0:100],X_2[100:200],X_2[200:300],X_2[300:400],X_2[500:600],X_2[600:700],X_2[700:800],X_2[400:500]))\n",
    "    if transfer_num == 4:\n",
    "    # Transfer 1 - 3 \n",
    "        source = np.vstack((X_1[0:100],X_1[0:50],X_1[100:200],X_1[250:300],X_1[300:400],X_1[500:600],X_1[600:700],X_1[700:800],X_1[700:800]))\n",
    "        target = np.vstack((X_3[0:100],X_3[100:200],X_3[200:300],X_3[300:400],X_3[500:600],X_3[600:700],X_3[700:800],X_3[400:500]))\n",
    "    if transfer_num == 5:\n",
    "    # Transfer 2 - 3 \n",
    "        source = np.vstack((X_2[0:100],X_2[100:200],X_2[200:300],X_2[300:400],X_2[500:600],X_2[600:700],X_2[700:800],X_2[700:800]))\n",
    "        target = np.vstack((X_3[0:100],X_3[100:200],X_3[200:300],X_3[300:400],X_3[500:600],X_3[600:700],X_3[700:800],X_3[400:500]))\n",
    "\n",
    "\n",
    "    label_source = np.zeros((800,8))\n",
    "    label_source[0:150,0] =1 \n",
    "    label_source[150:250,1] =1 \n",
    "    label_source[250:300,2] =1 \n",
    "    label_source[300:400,3] =1 \n",
    "    label_source[400:500,4] =1 \n",
    "    label_source[500:600,5] =1 \n",
    "    label_source[600:700,6] =1 \n",
    "    label_source[700:800,6] =1 \n",
    "\n",
    "    label_target = np.zeros((800,8))\n",
    "    label_target[0:100,0] =1 \n",
    "    label_target[100:200,1] =1 \n",
    "    label_target[200:300,2] =1 \n",
    "    label_target[300:400,3] =1 \n",
    "    label_target[400:500,4] =1 \n",
    "    label_target[500:600,5] =1 \n",
    "    label_target[600:700,6] =1 \n",
    "    label_target[700:800,7] =1 \n",
    "\n",
    "    np.save(\"./bearingset/data/T1_source_image.npy\",source)\n",
    "    np.save(\"./bearingset/data/T1_target_image.npy\",target)\n",
    "\n",
    "    np.save(\"./bearingset/data/T1_source_label.npy\",label_source)\n",
    "    np.save(\"./bearingset/data/T1_target_label.npy\",label_target)"
   ]
  },
  {
   "cell_type": "markdown",
   "metadata": {},
   "source": [
    "# Build the OSDT task-2"
   ]
  },
  {
   "cell_type": "markdown",
   "metadata": {},
   "source": [
    "source Domain:\n",
    "1,3,4,6,7,8\n",
    "\n",
    "target Domain:\n",
    "1,3,4,6,7,8,**5**,**2**"
   ]
  },
  {
   "cell_type": "code",
   "execution_count": 3,
   "metadata": {},
   "outputs": [],
   "source": [
    "def T2(X_0,X_1,X_2,X_3,transfer_num):\n",
    "    if transfer_num == 0:\n",
    "    # Transfer 0 - 1 \n",
    "        source = np.vstack((X_0[0:100],X_0[200:300],X_0[300:400],X_0[500:600],X_0[600:700],X_0[600:700],X_0[700:800],X_0[700:800]))\n",
    "        target = np.vstack((X_1[0:100],X_1[200:300],X_1[300:400],X_1[500:600],X_1[600:700],X_1[700:800],X_1[400:500],X_1[100:200]))\n",
    "    if transfer_num == 1:\n",
    "    # Transfer 0 - 2 \n",
    "        source = np.vstack((X_0[0:100],X_0[200:300],X_0[300:400],X_0[500:600],X_0[600:700],X_0[600:700],X_0[700:800],X_0[700:800]))\n",
    "        target = np.vstack((X_2[0:100],X_2[200:300],X_2[300:400],X_2[500:600],X_2[600:700],X_2[700:800],X_2[400:500],X_2[100:200]))\n",
    "    if transfer_num == 2:\n",
    "    # Transfer 0 - 3 \n",
    "        source = np.vstack((X_0[0:100],X_0[200:300],X_0[300:400],X_0[500:600],X_0[600:700],X_0[600:700],X_0[700:800],X_0[700:800]))\n",
    "        target = np.vstack((X_3[0:100],X_3[200:300],X_3[300:400],X_3[500:600],X_3[600:700],X_3[700:800],X_3[400:500],X_3[100:200]))\n",
    "    if transfer_num == 3:\n",
    "    # Transfer 1 - 2 \n",
    "        source = np.vstack((X_1[0:100],X_1[200:300],X_1[300:400],X_1[500:600],X_1[600:700],X_1[600:700],X_1[700:800],X_1[700:800]))\n",
    "        target = np.vstack((X_2[0:100],X_2[200:300],X_2[300:400],X_2[500:600],X_2[600:700],X_2[700:800],X_2[400:500],X_2[100:200]))\n",
    "    if transfer_num == 4:\n",
    "    # Transfer 1 - 3 \n",
    "        source = np.vstack((X_1[0:100],X_1[200:300],X_1[300:400],X_1[500:600],X_1[600:700],X_1[600:700],X_1[700:800],X_1[700:800]))\n",
    "        target = np.vstack((X_3[0:100],X_3[200:300],X_3[300:400],X_3[500:600],X_3[600:700],X_3[700:800],X_3[400:500],X_3[100:200]))\n",
    "    if transfer_num == 5:\n",
    "    # Transfer 2 - 3 \n",
    "        source = np.vstack((X_2[0:100],X_2[200:300],X_2[300:400],X_2[500:600],X_2[600:700],X_2[600:700],X_2[700:800],X_2[700:800]))\n",
    "        target = np.vstack((X_3[0:100],X_3[200:300],X_3[300:400],X_3[500:600],X_3[600:700],X_3[700:800],X_3[400:500],X_3[100:200]))\n",
    "\n",
    "    label_source = np.zeros((800,7))\n",
    "    label_source[0:100,0] =1 \n",
    "    label_source[100:200,1] =1 \n",
    "    label_source[200:300,2] =1 \n",
    "    label_source[300:400,3] =1 \n",
    "    label_source[400:500,4] =1 \n",
    "    label_source[500:600,4] =1 \n",
    "    label_source[600:700,5] =1 \n",
    "    label_source[700:800,5] =1 \n",
    "\n",
    "    label_target = np.zeros((800,7))\n",
    "    label_target[0:100,0] =1 \n",
    "    label_target[100:200,1] =1 \n",
    "    label_target[200:300,2] =1 \n",
    "    label_target[300:400,3] =1 \n",
    "    label_target[400:500,4] =1 \n",
    "    label_target[500:600,5] =1 \n",
    "    label_target[600:700,6] =1 \n",
    "    label_target[700:800,6] =1 \n",
    "    \n",
    "    np.save(\"./bearingset/data/T2_source_image.npy\",source)\n",
    "    np.save(\"./bearingset/data/T2_target_image.npy\",target)\n",
    "\n",
    "    np.save(\"./bearingset/data/T2_source_label.npy\",label_source)\n",
    "    np.save(\"./bearingset/data/T2_target_label.npy\",label_target)"
   ]
  },
  {
   "cell_type": "markdown",
   "metadata": {},
   "source": [
    "# Build the OSDT task-3"
   ]
  },
  {
   "cell_type": "markdown",
   "metadata": {},
   "source": [
    "source Domain:\n",
    "1,2,3,4,5\n",
    "\n",
    "target Domain:\n",
    "1,2,3,4,5,**6**,**7**,**8**"
   ]
  },
  {
   "cell_type": "code",
   "execution_count": 4,
   "metadata": {
    "code_folding": []
   },
   "outputs": [],
   "source": [
    "def T3(X_0,X_1,X_2,X_3,transfer_num):\n",
    "    if transfer_num == 0:\n",
    "    # Transfer 0 - 1 \n",
    "        source = np.vstack((X_0[0:100],X_0[100:200],X_0[200:300],X_0[300:400],X_0[400:500],X_0[0:100],X_0[100:200],X_0[200:300]))\n",
    "        target = np.vstack((X_1[0:100],X_1[100:200],X_1[200:300],X_1[300:400],X_1[400:500],X_1[500:600],X_1[600:700],X_1[700:800]))\n",
    "    if transfer_num == 1:\n",
    "    # Transfer 0 - 2 \n",
    "        source = np.vstack((X_0[0:100],X_0[100:200],X_0[200:300],X_0[300:400],X_0[400:500],X_0[0:100],X_0[100:200],X_0[200:300]))\n",
    "        target = np.vstack((X_2[0:100],X_2[100:200],X_2[200:300],X_2[300:400],X_2[400:500],X_2[500:600],X_2[600:700],X_2[700:800]))\n",
    "    if transfer_num == 2:\n",
    "    # Transfer 0 - 3 \n",
    "        source = np.vstack((X_0[0:100],X_0[100:200],X_0[200:300],X_0[300:400],X_0[400:500],X_0[0:100],X_0[100:200],X_0[200:300]))\n",
    "        target = np.vstack((X_3[0:100],X_3[100:200],X_3[200:300],X_3[300:400],X_3[400:500],X_3[500:600],X_3[600:700],X_3[700:800]))\n",
    "    if transfer_num == 3:\n",
    "    # Transfer 1 - 2 \n",
    "        source = np.vstack((X_1[0:100],X_1[100:200],X_1[200:300],X_1[300:400],X_1[400:500],X_1[0:100],X_1[100:200],X_1[200:300]))\n",
    "        target = np.vstack((X_2[0:100],X_2[100:200],X_2[200:300],X_2[300:400],X_2[400:500],X_2[500:600],X_2[600:700],X_2[700:800]))\n",
    "    if transfer_num == 4:\n",
    "    # Transfer 1 - 3 \n",
    "        source = np.vstack((X_1[0:100],X_1[100:200],X_1[200:300],X_1[300:400],X_1[400:500],X_1[0:100],X_1[100:200],X_1[200:300]))\n",
    "        target = np.vstack((X_3[0:100],X_3[100:200],X_3[200:300],X_3[300:400],X_3[400:500],X_3[500:600],X_3[600:700],X_3[700:800]))\n",
    "    if transfer_num == 5:\n",
    "    # Transfer 2 - 3 \n",
    "        source = np.vstack((X_2[0:100],X_2[100:200],X_2[200:300],X_2[300:400],X_2[400:500],X_2[0:100],X_2[100:200],X_2[200:300]))\n",
    "        target = np.vstack((X_3[0:100],X_3[100:200],X_3[200:300],X_3[300:400],X_3[400:500],X_3[500:600],X_3[600:700],X_3[700:800]))\n",
    "\n",
    "    label_source = np.zeros((800,6))\n",
    "    label_source[0:100,0] =1 \n",
    "    label_source[100:200,1] =1 \n",
    "    label_source[200:300,2] =1 \n",
    "    label_source[300:400,3] =1 \n",
    "    label_source[400:500,4] =1 \n",
    "    label_source[500:600,0] =1 \n",
    "    label_source[600:700,1] =1 \n",
    "    label_source[700:800,2] =1 \n",
    "\n",
    "    label_target = np.zeros((800,6))\n",
    "    label_target[0:100,0] =1 \n",
    "    label_target[100:200,1] =1 \n",
    "    label_target[200:300,2] =1 \n",
    "    label_target[300:400,3] =1 \n",
    "    label_target[400:500,4] =1 \n",
    "    label_target[500:600,5] =1 \n",
    "    label_target[600:700,5] =1 \n",
    "    label_target[700:800,5] =1 \n",
    "\n",
    "    np.save(\"./bearingset/data/T3_source_image.npy\",source)\n",
    "    np.save(\"./bearingset/data/T3_target_image.npy\",target)\n",
    "\n",
    "    np.save(\"./bearingset/data/T3_source_label.npy\",label_source)\n",
    "    np.save(\"./bearingset/data/T3_target_label.npy\",label_target)"
   ]
  },
  {
   "cell_type": "markdown",
   "metadata": {},
   "source": [
    "# Build the OSDT task-4"
   ]
  },
  {
   "cell_type": "markdown",
   "metadata": {},
   "source": [
    "**Source Domain:\n",
    "1,4,6,8**\n",
    "\n",
    "**Target Domain:\n",
    "1,5*,4,6,8**"
   ]
  },
  {
   "cell_type": "code",
   "execution_count": 5,
   "metadata": {},
   "outputs": [],
   "source": [
    "def T4(X_0,X_1,X_2,X_3,transfer_num):\n",
    "    if transfer_num == 0:\n",
    "    # Transfer 0 - 1 \n",
    "        source = np.vstack((X_0[0:100],X_0[300:400],X_0[500:600],X_0[700:800],X_0[0:100],X_0[300:400],X_0[500:600],X_0[700:800]))\n",
    "        target = np.vstack((X_1[0:100],X_1[300:400],X_1[500:600],X_1[700:800],X_1[400:500],X_1[400:500],X_1[400:500],X_1[400:500]))\n",
    "    if transfer_num == 1:\n",
    "    # Transfer 0 - 2 \n",
    "        source = np.vstack((X_0[0:100],X_0[300:400],X_0[500:600],X_0[700:800],X_0[0:100],X_0[300:400],X_0[500:600],X_0[700:800]))\n",
    "        target = np.vstack((X_2[0:100],X_2[300:400],X_2[500:600],X_2[700:800],X_2[400:500],X_2[400:500],X_2[400:500],X_2[400:500]))\n",
    "    if transfer_num == 2:\n",
    "    # Transfer 0 - 3 \n",
    "        source = np.vstack((X_0[0:100],X_0[300:400],X_0[500:600],X_0[700:800],X_0[0:100],X_0[300:400],X_0[500:600],X_0[700:800]))\n",
    "        target = np.vstack((X_3[0:100],X_3[300:400],X_3[500:600],X_3[700:800],X_3[400:500],X_3[400:500],X_3[400:500],X_3[400:500]))\n",
    "    if transfer_num == 3:\n",
    "    # Transfer 1 - 2 \n",
    "        source = np.vstack((X_1[0:100],X_1[300:400],X_1[500:600],X_1[700:800],X_1[0:100],X_1[300:400],X_1[500:600],X_1[700:800]))\n",
    "        target = np.vstack((X_2[0:100],X_2[300:400],X_2[500:600],X_2[700:800],X_2[400:500],X_2[400:500],X_2[400:500],X_2[400:500]))\n",
    "    if transfer_num == 4:\n",
    "    # Transfer 1 - 3 \n",
    "        source = np.vstack((X_1[0:100],X_1[300:400],X_1[500:600],X_1[700:800],X_1[0:100],X_1[300:400],X_1[500:600],X_1[700:800]))\n",
    "        target = np.vstack((X_3[0:100],X_3[300:400],X_3[500:600],X_3[700:800],X_3[400:500],X_3[400:500],X_3[400:500],X_3[400:500]))\n",
    "    if transfer_num == 5:\n",
    "    # Transfer 2 - 3 \n",
    "        source = np.vstack((X_2[0:100],X_2[300:400],X_2[500:600],X_2[700:800],X_2[0:100],X_2[300:400],X_2[500:600],X_2[700:800]))\n",
    "        target = np.vstack((X_3[0:100],X_3[300:400],X_3[500:600],X_3[700:800],X_3[400:500],X_3[400:500],X_3[400:500],X_3[400:500]))\n",
    "\n",
    "\n",
    "    label_source = np.zeros((800,5))\n",
    "    label_source[0:100,0] =1 \n",
    "    label_source[100:200,1] =1 \n",
    "    label_source[200:300,2] =1 \n",
    "    label_source[300:400,3] =1 \n",
    "    label_source[400:500,0] =1 \n",
    "    label_source[500:600,1] =1 \n",
    "    label_source[600:700,2] =1 \n",
    "    label_source[700:800,3] =1 \n",
    "\n",
    "    label_target = np.zeros((800,5))\n",
    "    label_target[0:100,0] =1 \n",
    "    label_target[100:200,1] =1 \n",
    "    label_target[200:300,2] =1 \n",
    "    label_target[300:400,3] =1 \n",
    "    label_target[400:800,4] =1 \n",
    "\n",
    "    np.save(\"./bearingset/data/T4_source_image.npy\",source)\n",
    "    np.save(\"./bearingset/data/T4_target_image.npy\",target)\n",
    "\n",
    "    np.save(\"./bearingset/data/T4_source_label.npy\",label_source)\n",
    "    np.save(\"./bearingset/data/T4_target_label.npy\",label_target)"
   ]
  },
  {
   "cell_type": "markdown",
   "metadata": {},
   "source": [
    "# Generate all OSDT tasks"
   ]
  },
  {
   "cell_type": "code",
   "execution_count": 6,
   "metadata": {},
   "outputs": [],
   "source": [
    "transfer_num = 4\n",
    "\n",
    "T1(X_0,X_1,X_2,X_3,transfer_num)\n",
    "T2(X_0,X_1,X_2,X_3,transfer_num)\n",
    "T3(X_0,X_1,X_2,X_3,transfer_num)\n",
    "T4(X_0,X_1,X_2,X_3,transfer_num)"
   ]
  }
 ],
 "metadata": {
  "kernelspec": {
   "display_name": "pytorch",
   "language": "python",
   "name": "pytorch"
  },
  "language_info": {
   "codemirror_mode": {
    "name": "ipython",
    "version": 3
   },
   "file_extension": ".py",
   "mimetype": "text/x-python",
   "name": "python",
   "nbconvert_exporter": "python",
   "pygments_lexer": "ipython3",
   "version": "3.7.10"
  },
  "toc": {
   "base_numbering": 1,
   "nav_menu": {},
   "number_sections": true,
   "sideBar": true,
   "skip_h1_title": false,
   "title_cell": "Table of Contents",
   "title_sidebar": "Contents",
   "toc_cell": false,
   "toc_position": {
    "height": "calc(100% - 180px)",
    "left": "10px",
    "top": "150px",
    "width": "307.375px"
   },
   "toc_section_display": true,
   "toc_window_display": true
  },
  "varInspector": {
   "cols": {
    "lenName": 16,
    "lenType": 16,
    "lenVar": 40
   },
   "kernels_config": {
    "python": {
     "delete_cmd_postfix": "",
     "delete_cmd_prefix": "del ",
     "library": "var_list.py",
     "varRefreshCmd": "print(var_dic_list())"
    },
    "r": {
     "delete_cmd_postfix": ") ",
     "delete_cmd_prefix": "rm(",
     "library": "var_list.r",
     "varRefreshCmd": "cat(var_dic_list()) "
    }
   },
   "types_to_exclude": [
    "module",
    "function",
    "builtin_function_or_method",
    "instance",
    "_Feature"
   ],
   "window_display": false
  }
 },
 "nbformat": 4,
 "nbformat_minor": 4
}
