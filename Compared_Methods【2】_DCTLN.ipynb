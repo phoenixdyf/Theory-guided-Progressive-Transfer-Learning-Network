{
 "cells": [
  {
   "cell_type": "markdown",
   "metadata": {},
   "source": [
    "# Import modules"
   ]
  },
  {
   "cell_type": "code",
   "execution_count": 1,
   "metadata": {},
   "outputs": [
    {
     "name": "stderr",
     "output_type": "stream",
     "text": [
      "C:\\Users\\phoen\\Anaconda3\\envs\\pytorch\\lib\\site-packages\\tensorflow\\python\\framework\\dtypes.py:516: FutureWarning: Passing (type, 1) or '1type' as a synonym of type is deprecated; in a future version of numpy, it will be understood as (type, (1,)) / '(1,)type'.\n",
      "  _np_qint8 = np.dtype([(\"qint8\", np.int8, 1)])\n",
      "C:\\Users\\phoen\\Anaconda3\\envs\\pytorch\\lib\\site-packages\\tensorflow\\python\\framework\\dtypes.py:517: FutureWarning: Passing (type, 1) or '1type' as a synonym of type is deprecated; in a future version of numpy, it will be understood as (type, (1,)) / '(1,)type'.\n",
      "  _np_quint8 = np.dtype([(\"quint8\", np.uint8, 1)])\n",
      "C:\\Users\\phoen\\Anaconda3\\envs\\pytorch\\lib\\site-packages\\tensorflow\\python\\framework\\dtypes.py:518: FutureWarning: Passing (type, 1) or '1type' as a synonym of type is deprecated; in a future version of numpy, it will be understood as (type, (1,)) / '(1,)type'.\n",
      "  _np_qint16 = np.dtype([(\"qint16\", np.int16, 1)])\n",
      "C:\\Users\\phoen\\Anaconda3\\envs\\pytorch\\lib\\site-packages\\tensorflow\\python\\framework\\dtypes.py:519: FutureWarning: Passing (type, 1) or '1type' as a synonym of type is deprecated; in a future version of numpy, it will be understood as (type, (1,)) / '(1,)type'.\n",
      "  _np_quint16 = np.dtype([(\"quint16\", np.uint16, 1)])\n",
      "C:\\Users\\phoen\\Anaconda3\\envs\\pytorch\\lib\\site-packages\\tensorflow\\python\\framework\\dtypes.py:520: FutureWarning: Passing (type, 1) or '1type' as a synonym of type is deprecated; in a future version of numpy, it will be understood as (type, (1,)) / '(1,)type'.\n",
      "  _np_qint32 = np.dtype([(\"qint32\", np.int32, 1)])\n",
      "C:\\Users\\phoen\\Anaconda3\\envs\\pytorch\\lib\\site-packages\\tensorflow\\python\\framework\\dtypes.py:525: FutureWarning: Passing (type, 1) or '1type' as a synonym of type is deprecated; in a future version of numpy, it will be understood as (type, (1,)) / '(1,)type'.\n",
      "  np_resource = np.dtype([(\"resource\", np.ubyte, 1)])\n",
      "C:\\Users\\phoen\\Anaconda3\\envs\\pytorch\\lib\\site-packages\\tensorboard\\compat\\tensorflow_stub\\dtypes.py:541: FutureWarning: Passing (type, 1) or '1type' as a synonym of type is deprecated; in a future version of numpy, it will be understood as (type, (1,)) / '(1,)type'.\n",
      "  _np_qint8 = np.dtype([(\"qint8\", np.int8, 1)])\n",
      "C:\\Users\\phoen\\Anaconda3\\envs\\pytorch\\lib\\site-packages\\tensorboard\\compat\\tensorflow_stub\\dtypes.py:542: FutureWarning: Passing (type, 1) or '1type' as a synonym of type is deprecated; in a future version of numpy, it will be understood as (type, (1,)) / '(1,)type'.\n",
      "  _np_quint8 = np.dtype([(\"quint8\", np.uint8, 1)])\n",
      "C:\\Users\\phoen\\Anaconda3\\envs\\pytorch\\lib\\site-packages\\tensorboard\\compat\\tensorflow_stub\\dtypes.py:543: FutureWarning: Passing (type, 1) or '1type' as a synonym of type is deprecated; in a future version of numpy, it will be understood as (type, (1,)) / '(1,)type'.\n",
      "  _np_qint16 = np.dtype([(\"qint16\", np.int16, 1)])\n",
      "C:\\Users\\phoen\\Anaconda3\\envs\\pytorch\\lib\\site-packages\\tensorboard\\compat\\tensorflow_stub\\dtypes.py:544: FutureWarning: Passing (type, 1) or '1type' as a synonym of type is deprecated; in a future version of numpy, it will be understood as (type, (1,)) / '(1,)type'.\n",
      "  _np_quint16 = np.dtype([(\"quint16\", np.uint16, 1)])\n",
      "C:\\Users\\phoen\\Anaconda3\\envs\\pytorch\\lib\\site-packages\\tensorboard\\compat\\tensorflow_stub\\dtypes.py:545: FutureWarning: Passing (type, 1) or '1type' as a synonym of type is deprecated; in a future version of numpy, it will be understood as (type, (1,)) / '(1,)type'.\n",
      "  _np_qint32 = np.dtype([(\"qint32\", np.int32, 1)])\n",
      "C:\\Users\\phoen\\Anaconda3\\envs\\pytorch\\lib\\site-packages\\tensorboard\\compat\\tensorflow_stub\\dtypes.py:550: FutureWarning: Passing (type, 1) or '1type' as a synonym of type is deprecated; in a future version of numpy, it will be understood as (type, (1,)) / '(1,)type'.\n",
      "  np_resource = np.dtype([(\"resource\", np.ubyte, 1)])\n"
     ]
    },
    {
     "name": "stdout",
     "output_type": "stream",
     "text": [
      "WARNING:tensorflow:From C:\\Users\\phoen\\Anaconda3\\envs\\pytorch\\lib\\site-packages\\tensorlayer\\layers.py:1094: The name tf.nn.max_pool is deprecated. Please use tf.nn.max_pool2d instead.\n",
      "\n"
     ]
    }
   ],
   "source": [
    "from Model import *\n",
    "from utilities import *\n",
    "from sklearn.metrics import accuracy_score,confusion_matrix\n",
    "from torchsummary import summary\n",
    "from torch.optim import Adam\n",
    "from torch.autograd import Variable\n",
    "import numpy as np\n",
    "import torch.utils.data as Data\n",
    "import matplotlib.pyplot as plt\n",
    "import seaborn as sns\n",
    "import utils\n",
    "import copy\n",
    "import time\n",
    "import torch\n",
    "import torch.nn as nn\n",
    "import pandas as pd\n",
    "import math\n",
    "import torch.nn.functional as F\n",
    "import warnings\n",
    "warnings.filterwarnings(\"ignore\")"
   ]
  },
  {
   "cell_type": "markdown",
   "metadata": {},
   "source": [
    "# Building the dataset"
   ]
  },
  {
   "cell_type": "code",
   "execution_count": 2,
   "metadata": {},
   "outputs": [],
   "source": [
    "def get_dat(data_num):\n",
    "    if data_num == 1:\n",
    "        F_0 = np.load(\"./bearingset/data/T1_source_image.npy\").transpose((0,3,1,2))/255\n",
    "        F_1 = np.load(\"./bearingset/data/T1_target_image.npy\").transpose((0,3,1,2))/255\n",
    "        Y_0 = np.load(\"./bearingset/data/T1_source_label.npy\")\n",
    "        Y_1 = np.load(\"./bearingset/data/T1_target_label.npy\")\n",
    "        Label_Name =[\"1-OSF\",\"2-OSP\",\"3-ORF\",\"4-ISF\",\"6-IORF\",\"7-IORP\",\"8-H\",\"Unknown\"]\n",
    "    if data_num == 2:\n",
    "        F_0 = np.load(\"./bearingset/data/T2_source_image.npy\").transpose((0,3,1,2))/255\n",
    "        F_1 = np.load(\"./bearingset/data/T2_target_image.npy\").transpose((0,3,1,2))/255\n",
    "        Y_0 = np.load(\"./bearingset/data/T2_source_label.npy\")\n",
    "        Y_1 = np.load(\"./bearingset/data/T2_target_label.npy\")\n",
    "        Label_Name =[\"1-OSF\",\"3-ORF\",\"4-ISF\",\"6-IORF\",\"7-IORP\",\"8-H\",\"Unknown\"]\n",
    "    if data_num == 3:\n",
    "        F_0 = np.load(\"./bearingset/data/T3_source_image.npy\").transpose((0,3,1,2))/255\n",
    "        F_1 = np.load(\"./bearingset/data/T3_target_image.npy\").transpose((0,3,1,2))/255\n",
    "        Y_0 = np.load(\"./bearingset/data/T3_source_label.npy\")\n",
    "        Y_1 = np.load(\"./bearingset/data/T3_target_label.npy\")\n",
    "        Label_Name =[\"1-OSF\",\"2-OSP\",\"3-ORF\",\"4-ISF\",\"5-IRF\",\"Unknown\"]\n",
    "    if data_num == 4:\n",
    "        F_0 = np.load(\"./bearingset/data/T4_source_image.npy\").transpose((0,3,1,2))/255\n",
    "        F_1 = np.load(\"./bearingset/data/T4_target_image.npy\").transpose((0,3,1,2))/255\n",
    "        Y_0 = np.load(\"./bearingset/data/T4_source_label.npy\")\n",
    "        Y_1 = np.load(\"./bearingset/data/T4_target_label.npy\")\n",
    "        Label_Name =[\"1-OSF\",\"4-ISF\",\"6-IORF\",\"8-H\",\"Unknown\"]\n",
    "    if data_num == 5:\n",
    "        F_0 = np.load(\"./gearset/data/T1_source_image.npy\").transpose((0,3,1,2))/255\n",
    "        F_1 = np.load(\"./gearset/data/T1_target_image.npy\").transpose((0,3,1,2))/255\n",
    "        Y_0 = np.load(\"./gearset/data/T1_source_label.npy\")\n",
    "        Y_1 = np.load(\"./gearset/data/T1_target_label.npy\")\n",
    "        Label_Name =[\"1-N\",\"3-BF&SI\",\"4-G&E\",\"Unknown\"]\n",
    "    if data_num == 6:\n",
    "        F_0 = np.load(\"./gearset/data/T2_source_image.npy\").transpose((0,3,1,2))/255\n",
    "        F_1 = np.load(\"./gearset/data/T2_target_image.npy\").transpose((0,3,1,2))/255\n",
    "        Y_0 = np.load(\"./gearset/data/T2_source_label.npy\")\n",
    "        Y_1 = np.load(\"./gearset/data/T2_target_label.npy\")\n",
    "        Label_Name =[\"1-N\",\"3-BF&SI\",\"4-G&E\",\"Unknown\"]\n",
    "    if data_num == 7:\n",
    "        F_0 = np.load(\"./gearset/data/T3_source_image.npy\").transpose((0,3,1,2))/255\n",
    "        F_1 = np.load(\"./gearset/data/T3_target_image.npy\").transpose((0,3,1,2))/255\n",
    "        Y_0 = np.load(\"./gearset/data/T3_source_label.npy\")\n",
    "        Y_1 = np.load(\"./gearset/data/T3_target_label.npy\")\n",
    "        Label_Name =[\"1-N\",\"3-BF&SI\",\"4-G&E\",\"Unknown\"]\n",
    "    F_0=torch.from_numpy(F_0.astype(np.float32))\n",
    "    F_1=torch.from_numpy(F_1.astype(np.float32))\n",
    "    Y_0=torch.from_numpy(Y_0.astype(np.float32))\n",
    "    Y_1=torch.from_numpy(Y_1.astype(np.float32))\n",
    "    data_0 = Data.TensorDataset(F_0,Y_0)\n",
    "    data_1 = Data.TensorDataset(F_1,Y_1)\n",
    "    return data_0,data_1,F_0,F_1,Y_0,Y_1,Label_Name\n",
    "def Split(full_dataset):\n",
    "    test_size = 200\n",
    "    train_size = len(full_dataset) - test_size\n",
    "    train_dataset, test_dataset = torch.utils.data.random_split(full_dataset, [train_size, test_size])\n",
    "    return train_dataset, test_dataset"
   ]
  },
  {
   "cell_type": "markdown",
   "metadata": {},
   "source": [
    "# Model "
   ]
  },
  {
   "cell_type": "markdown",
   "metadata": {},
   "source": [
    "## Model initialization"
   ]
  },
  {
   "cell_type": "code",
   "execution_count": 3,
   "metadata": {},
   "outputs": [
    {
     "name": "stdout",
     "output_type": "stream",
     "text": [
      "gpu(s) to be used: ['0']\n",
      "WARNING:tensorflow:From E:\\Deep\\【3-TPTLN】\\github\\utilities.py:144: The name tf.summary.FileWriter is deprecated. Please use tf.compat.v1.summary.FileWriter instead.\n",
      "\n"
     ]
    }
   ],
   "source": [
    "task_num = 1\n",
    "setGPU('0')\n",
    "log = Logger('./log/DCTLN/', clear=True)\n",
    "\n",
    "data_0,data_1,F_0,F_1,Y_0,Y_1,Label_Name = get_dat(task_num)\n",
    "Train_0,Test_0 = Split(data_0)\n",
    "Train_1,Test_1 = Split(data_1)\n",
    "src_train_loader=Data.DataLoader(dataset=Train_0,batch_size=40,shuffle=True,num_workers=0)\n",
    "tgt_train_loader=Data.DataLoader(dataset=Train_1,batch_size=40,shuffle=True,num_workers=0)\n",
    "src_test_loader=Data.DataLoader(dataset=Test_0,batch_size=40,shuffle=True,num_workers=0)\n",
    "tgt_test_loader=Data.DataLoader(dataset=Test_1,batch_size=40,shuffle=True,num_workers=0)\n",
    "\n",
    "num_class = Y_0.shape[1]-1\n",
    "discriminator = LargeAdversarialNetwork(1024).cuda()\n",
    "feature_extractor = CNN_2D().cuda()\n",
    "cls = CLS(1024, num_class+1).cuda()\n",
    "net = nn.Sequential(feature_extractor, cls).cuda()"
   ]
  },
  {
   "cell_type": "markdown",
   "metadata": {},
   "source": [
    "## Model training"
   ]
  },
  {
   "cell_type": "code",
   "execution_count": 4,
   "metadata": {
    "code_folding": [],
    "scrolled": true
   },
   "outputs": [
    {
     "name": "stdout",
     "output_type": "stream",
     "text": [
      "WARNING:tensorflow:From E:\\Deep\\【3-TPTLN】\\github\\utilities.py:151: The name tf.Summary is deprecated. Please use tf.compat.v1.Summary instead.\n",
      "\n",
      "{'ce': 2.0794897079467773, 'acc_train': 0.10000000149011612}\n",
      "{'ce': 2.3350918127107434e-05, 'acc_train': 0.7749999761581421}\n"
     ]
    }
   ],
   "source": [
    "scheduler = lambda step, initial_lr : inverseDecaySheduler(step, initial_lr, gamma=10, power=0.75, max_iter=10000)\n",
    "optimizer_discriminator = OptimWithSheduler(optim.Adam(net.parameters(), lr= 5e-4, weight_decay=5e-4),scheduler)\n",
    "optimizer_feature_extractor = OptimWithSheduler(optim.Adam(net.parameters(), lr= 5e-4, weight_decay=5e-4),scheduler)\n",
    "optimizer_cls = OptimWithSheduler(optim.Adam(net.parameters(), lr= 5e-4, weight_decay=5e-4),scheduler)                      \n",
    "k=0\n",
    "acc = 0\n",
    "\n",
    "while k <=100:\n",
    "    for (i, ((im_source, label_source), (im_target, label_target))) in enumerate (zip(src_train_loader,tgt_train_loader)):        \n",
    "        fs1, feature_source, predict_prob_source = net.forward(im_source.cuda())\n",
    "        ft1, feature_target, predict_prob_target = net.forward(im_target.cuda())       \n",
    "        domain_prob_discriminator_1_source = discriminator.forward(fs1)\n",
    "        domain_prob_discriminator_1_target = discriminator.forward(ft1)\n",
    "        ce = CrossEntropyLoss(label_source.cuda(), predict_prob_source.cuda()) \n",
    "        adv_loss = BCELossForMultiClassification(label=torch.ones_like(domain_prob_discriminator_1_source), predict_prob=domain_prob_discriminator_1_source )\n",
    "        adv_loss+= BCELossForMultiClassification(label=torch.ones_like(domain_prob_discriminator_1_target), predict_prob=1 - domain_prob_discriminator_1_target)\n",
    "        with OptimizerManager([optimizer_feature_extractor,optimizer_cls,optimizer_discriminator]):\n",
    "            loss =  ce +  adv_loss\n",
    "            loss.backward()         \n",
    "        k += 1\n",
    "        log.step += 1\n",
    "        if log.step % 100 == 1:\n",
    "            counter = AccuracyCounter()\n",
    "            counter.addOntBatch(variable_to_numpy(predict_prob_target), variable_to_numpy(label_target))\n",
    "            acc_train = Variable(torch.from_numpy(np.asarray([counter.reportAccuracy()], dtype=np.float32))).cuda()            \n",
    "            track_scalars(log, ['ce', 'acc_train'], globals())\n",
    "            torch.save(net.state_dict(), './models/Compared_Methods_DCTLN.pkl') "
   ]
  },
  {
   "cell_type": "markdown",
   "metadata": {},
   "source": [
    "# Performance visualization"
   ]
  },
  {
   "cell_type": "markdown",
   "metadata": {},
   "source": [
    "## The confusion matrix"
   ]
  },
  {
   "cell_type": "code",
   "execution_count": 5,
   "metadata": {
    "code_folding": [],
    "scrolled": true
   },
   "outputs": [
    {
     "data": {
      "image/png": "[encoded data removed]",
      "text/plain": [
       "<Figure size 500x500 with 1 Axes>"
      ]
     },
     "metadata": {
      "needs_background": "light"
     },
     "output_type": "display_data"
    }
   ],
   "source": [
    "net_path = './models/Compared_Methods_DCTLN.pkl'\n",
    "net.load_state_dict(torch.load(net_path))\n",
    "\n",
    "True_label = []\n",
    "Pred_Label = []\n",
    "for (i, (im, label)) in enumerate(tgt_test_loader):\n",
    "\n",
    "    ss, _,  predict_prob = net.forward(im.cuda())\n",
    "    \n",
    "    label = np.argmax(label, axis=-1).reshape(-1, 1)\n",
    "    predict_index = np.argmax(predict_prob.cpu().detach().numpy(), axis=-1).reshape(-1, 1)\n",
    "    \n",
    "    True_label.append(np.array(label.flatten()))\n",
    "    Pred_Label.append(np.array(predict_index.flatten()))\n",
    "\n",
    "y_true = np.array(True_label).reshape((200,))\n",
    "y_pred = np.array(Pred_Label).reshape((200,))\n",
    "\n",
    "m = confusion_matrix(y_true,y_pred)\n",
    "f, ax = plt.subplots(figsize=(5,5),dpi=100)\n",
    "ax= sns.heatmap(m,vmin=0, vmax=25,cmap='Blues',annot=True,fmt='',linewidths=.5,square=True,cbar=None,annot_kws={\"size\":16})\n",
    "plt.xticks(fontsize= 16, fontfamily= \"Times New Roman\")                      \n",
    "plt.yticks(fontsize= 16, fontfamily= \"Times New Roman\") \n",
    "plt.margins(0, 0)\n",
    "ax.set_xticklabels(Label_Name,rotation=30)\n",
    "ax.set_yticklabels(Label_Name,rotation=0)\n",
    "\n",
    "plt.margins(0, 0)"
   ]
  },
  {
   "cell_type": "markdown",
   "metadata": {},
   "source": [
    "## The accuracy"
   ]
  },
  {
   "cell_type": "code",
   "execution_count": 6,
   "metadata": {
    "scrolled": true
   },
   "outputs": [
    {
     "name": "stdout",
     "output_type": "stream",
     "text": [
      "The accuracy on all the known classes: 0.71\n",
      "The accuracy on all the target classes: 0.8606060606060606\n"
     ]
    }
   ],
   "source": [
    "pred_y = []\n",
    "true_y = []\n",
    "NUM_CLASSES = Y_1.shape[1]\n",
    "with torch.no_grad():\n",
    "    for batch_idx, (data, target) in enumerate(tgt_test_loader):\n",
    "        data, target = data.cuda(), target.cuda(non_blocking=True)\n",
    "        ss, _,  predict_prob = net(data)\n",
    "        pred = predict_prob.max(1, keepdim=True)[1] \n",
    "        for i in range(len(pred)):\n",
    "            pred_y.append(pred[i].item())\n",
    "            true_y.append(torch.argmax(target[i]).item())\n",
    "a,b = utils.cal_acc(true_y, pred_y, NUM_CLASSES)\n",
    "print(\"The accuracy on all the known classes: \"+str(a))\n",
    "print(\"The accuracy on all the target classes: \"+str(b))"
   ]
  }
 ],
 "metadata": {
  "kernelspec": {
   "display_name": "pytorch",
   "language": "python",
   "name": "pytorch"
  },
  "language_info": {
   "codemirror_mode": {
    "name": "ipython",
    "version": 3
   },
   "file_extension": ".py",
   "mimetype": "text/x-python",
   "name": "python",
   "nbconvert_exporter": "python",
   "pygments_lexer": "ipython3",
   "version": "3.7.10"
  },
  "toc": {
   "base_numbering": 1,
   "nav_menu": {},
   "number_sections": true,
   "sideBar": true,
   "skip_h1_title": false,
   "title_cell": "Table of Contents",
   "title_sidebar": "Contents",
   "toc_cell": false,
   "toc_position": {
    "height": "calc(100% - 180px)",
    "left": "10px",
    "top": "150px",
    "width": "384px"
   },
   "toc_section_display": true,
   "toc_window_display": true
  },
  "varInspector": {
   "cols": {
    "lenName": 16,
    "lenType": 16,
    "lenVar": 40
   },
   "kernels_config": {
    "python": {
     "delete_cmd_postfix": "",
     "delete_cmd_prefix": "del ",
     "library": "var_list.py",
     "varRefreshCmd": "print(var_dic_list())"
    },
    "r": {
     "delete_cmd_postfix": ") ",
     "delete_cmd_prefix": "rm(",
     "library": "var_list.r",
     "varRefreshCmd": "cat(var_dic_list()) "
    }
   },
   "types_to_exclude": [
    "module",
    "function",
    "builtin_function_or_method",
    "instance",
    "_Feature"
   ],
   "window_display": false
  }
 },
 "nbformat": 4,
 "nbformat_minor": 4
}
