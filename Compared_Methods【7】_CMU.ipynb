{
 "cells": [
  {
   "cell_type": "markdown",
   "metadata": {},
   "source": [
    "# Import modules"
   ]
  },
  {
   "cell_type": "code",
   "execution_count": 1,
   "metadata": {
    "scrolled": true
   },
   "outputs": [
    {
     "name": "stderr",
     "output_type": "stream",
     "text": [
      "C:\\Users\\phoen\\Anaconda3\\envs\\pytorch\\lib\\site-packages\\tensorflow\\python\\framework\\dtypes.py:516: FutureWarning: Passing (type, 1) or '1type' as a synonym of type is deprecated; in a future version of numpy, it will be understood as (type, (1,)) / '(1,)type'.\n",
      "  _np_qint8 = np.dtype([(\"qint8\", np.int8, 1)])\n",
      "C:\\Users\\phoen\\Anaconda3\\envs\\pytorch\\lib\\site-packages\\tensorflow\\python\\framework\\dtypes.py:517: FutureWarning: Passing (type, 1) or '1type' as a synonym of type is deprecated; in a future version of numpy, it will be understood as (type, (1,)) / '(1,)type'.\n",
      "  _np_quint8 = np.dtype([(\"quint8\", np.uint8, 1)])\n",
      "C:\\Users\\phoen\\Anaconda3\\envs\\pytorch\\lib\\site-packages\\tensorflow\\python\\framework\\dtypes.py:518: FutureWarning: Passing (type, 1) or '1type' as a synonym of type is deprecated; in a future version of numpy, it will be understood as (type, (1,)) / '(1,)type'.\n",
      "  _np_qint16 = np.dtype([(\"qint16\", np.int16, 1)])\n",
      "C:\\Users\\phoen\\Anaconda3\\envs\\pytorch\\lib\\site-packages\\tensorflow\\python\\framework\\dtypes.py:519: FutureWarning: Passing (type, 1) or '1type' as a synonym of type is deprecated; in a future version of numpy, it will be understood as (type, (1,)) / '(1,)type'.\n",
      "  _np_quint16 = np.dtype([(\"quint16\", np.uint16, 1)])\n",
      "C:\\Users\\phoen\\Anaconda3\\envs\\pytorch\\lib\\site-packages\\tensorflow\\python\\framework\\dtypes.py:520: FutureWarning: Passing (type, 1) or '1type' as a synonym of type is deprecated; in a future version of numpy, it will be understood as (type, (1,)) / '(1,)type'.\n",
      "  _np_qint32 = np.dtype([(\"qint32\", np.int32, 1)])\n",
      "C:\\Users\\phoen\\Anaconda3\\envs\\pytorch\\lib\\site-packages\\tensorflow\\python\\framework\\dtypes.py:525: FutureWarning: Passing (type, 1) or '1type' as a synonym of type is deprecated; in a future version of numpy, it will be understood as (type, (1,)) / '(1,)type'.\n",
      "  np_resource = np.dtype([(\"resource\", np.ubyte, 1)])\n",
      "C:\\Users\\phoen\\Anaconda3\\envs\\pytorch\\lib\\site-packages\\tensorboard\\compat\\tensorflow_stub\\dtypes.py:541: FutureWarning: Passing (type, 1) or '1type' as a synonym of type is deprecated; in a future version of numpy, it will be understood as (type, (1,)) / '(1,)type'.\n",
      "  _np_qint8 = np.dtype([(\"qint8\", np.int8, 1)])\n",
      "C:\\Users\\phoen\\Anaconda3\\envs\\pytorch\\lib\\site-packages\\tensorboard\\compat\\tensorflow_stub\\dtypes.py:542: FutureWarning: Passing (type, 1) or '1type' as a synonym of type is deprecated; in a future version of numpy, it will be understood as (type, (1,)) / '(1,)type'.\n",
      "  _np_quint8 = np.dtype([(\"quint8\", np.uint8, 1)])\n",
      "C:\\Users\\phoen\\Anaconda3\\envs\\pytorch\\lib\\site-packages\\tensorboard\\compat\\tensorflow_stub\\dtypes.py:543: FutureWarning: Passing (type, 1) or '1type' as a synonym of type is deprecated; in a future version of numpy, it will be understood as (type, (1,)) / '(1,)type'.\n",
      "  _np_qint16 = np.dtype([(\"qint16\", np.int16, 1)])\n",
      "C:\\Users\\phoen\\Anaconda3\\envs\\pytorch\\lib\\site-packages\\tensorboard\\compat\\tensorflow_stub\\dtypes.py:544: FutureWarning: Passing (type, 1) or '1type' as a synonym of type is deprecated; in a future version of numpy, it will be understood as (type, (1,)) / '(1,)type'.\n",
      "  _np_quint16 = np.dtype([(\"quint16\", np.uint16, 1)])\n",
      "C:\\Users\\phoen\\Anaconda3\\envs\\pytorch\\lib\\site-packages\\tensorboard\\compat\\tensorflow_stub\\dtypes.py:545: FutureWarning: Passing (type, 1) or '1type' as a synonym of type is deprecated; in a future version of numpy, it will be understood as (type, (1,)) / '(1,)type'.\n",
      "  _np_qint32 = np.dtype([(\"qint32\", np.int32, 1)])\n",
      "C:\\Users\\phoen\\Anaconda3\\envs\\pytorch\\lib\\site-packages\\tensorboard\\compat\\tensorflow_stub\\dtypes.py:550: FutureWarning: Passing (type, 1) or '1type' as a synonym of type is deprecated; in a future version of numpy, it will be understood as (type, (1,)) / '(1,)type'.\n",
      "  np_resource = np.dtype([(\"resource\", np.ubyte, 1)])\n"
     ]
    },
    {
     "name": "stdout",
     "output_type": "stream",
     "text": [
      "WARNING:tensorflow:From C:\\Users\\phoen\\Anaconda3\\envs\\pytorch\\lib\\site-packages\\tensorlayer\\layers.py:1094: The name tf.nn.max_pool is deprecated. Please use tf.nn.max_pool2d instead.\n",
      "\n"
     ]
    }
   ],
   "source": [
    "from Model import *\n",
    "from utilities import *\n",
    "from  sklearn.metrics import accuracy_score,confusion_matrix\n",
    "from sklearn import preprocessing\n",
    "from scipy.stats import entropy\n",
    "import torch.utils.data as Data\n",
    "import matplotlib.pyplot as plt\n",
    "import seaborn as sns\n",
    "import numpy as np\n",
    "import utils\n",
    "import torch.nn as nn\n",
    "import torch.nn.functional as F\n",
    "import torch.optim as optimizer\n",
    "import warnings\n",
    "warnings.filterwarnings(\"ignore\")"
   ]
  },
  {
   "cell_type": "markdown",
   "metadata": {},
   "source": [
    "# Building the dataset"
   ]
  },
  {
   "cell_type": "code",
   "execution_count": 2,
   "metadata": {
    "scrolled": true
   },
   "outputs": [],
   "source": [
    "def get_dat(data_num):\n",
    "    if data_num == 1:\n",
    "        F_0 = np.load(\"./bearingset/data/T1_source_image.npy\").transpose((0,3,1,2))/255\n",
    "        F_1 = np.load(\"./bearingset/data/T1_target_image.npy\").transpose((0,3,1,2))/255\n",
    "        Y_0 = np.load(\"./bearingset/data/T1_source_label.npy\")\n",
    "        Y_1 = np.load(\"./bearingset/data/T1_target_label.npy\")\n",
    "        Label_Name =[\"1-OSF\",\"2-OSP\",\"3-ORF\",\"4-ISF\",\"6-IORF\",\"7-IORP\",\"8-H\",\"Unknown\"]\n",
    "    if data_num == 2:\n",
    "        F_0 = np.load(\"./bearingset/data/T2_source_image.npy\").transpose((0,3,1,2))/255\n",
    "        F_1 = np.load(\"./bearingset/data/T2_target_image.npy\").transpose((0,3,1,2))/255\n",
    "        Y_0 = np.load(\"./bearingset/data/T2_source_label.npy\")\n",
    "        Y_1 = np.load(\"./bearingset/data/T2_target_label.npy\")\n",
    "        Label_Name =[\"1-OSF\",\"3-ORF\",\"4-ISF\",\"6-IORF\",\"7-IORP\",\"8-H\",\"Unknown\"]\n",
    "    if data_num == 3:\n",
    "        F_0 = np.load(\"./bearingset/data/T3_source_image.npy\").transpose((0,3,1,2))/255\n",
    "        F_1 = np.load(\"./bearingset/data/T3_target_image.npy\").transpose((0,3,1,2))/255\n",
    "        Y_0 = np.load(\"./bearingset/data/T3_source_label.npy\")\n",
    "        Y_1 = np.load(\"./bearingset/data/T3_target_label.npy\")\n",
    "        Label_Name =[\"1-OSF\",\"2-OSP\",\"3-ORF\",\"4-ISF\",\"5-IRF\",\"Unknown\"]\n",
    "    if data_num == 4:\n",
    "        F_0 = np.load(\"./bearingset/data/T4_source_image.npy\").transpose((0,3,1,2))/255\n",
    "        F_1 = np.load(\"./bearingset/data/T4_target_image.npy\").transpose((0,3,1,2))/255\n",
    "        Y_0 = np.load(\"./bearingset/data/T4_source_label.npy\")\n",
    "        Y_1 = np.load(\"./bearingset/data/T4_target_label.npy\")\n",
    "        Label_Name =[\"1-OSF\",\"4-ISF\",\"6-IORF\",\"8-H\",\"Unknown\"]\n",
    "    if data_num == 5:\n",
    "        F_0 = np.load(\"./gearset/data/T1_source_image.npy\").transpose((0,3,1,2))/255\n",
    "        F_1 = np.load(\"./gearset/data/T1_target_image.npy\").transpose((0,3,1,2))/255\n",
    "        Y_0 = np.load(\"./gearset/data/T1_source_label.npy\")\n",
    "        Y_1 = np.load(\"./gearset/data/T1_target_label.npy\")\n",
    "        Label_Name =[\"1-N\",\"3-BF&SI\",\"4-G&E\",\"Unknown\"]\n",
    "    if data_num == 6:\n",
    "        F_0 = np.load(\"./gearset/data/T2_source_image.npy\").transpose((0,3,1,2))/255\n",
    "        F_1 = np.load(\"./gearset/data/T2_target_image.npy\").transpose((0,3,1,2))/255\n",
    "        Y_0 = np.load(\"./gearset/data/T2_source_label.npy\")\n",
    "        Y_1 = np.load(\"./gearset/data/T2_target_label.npy\")\n",
    "        Label_Name =[\"1-N\",\"3-BF&SI\",\"4-G&E\",\"Unknown\"]\n",
    "    if data_num == 7:\n",
    "        F_0 = np.load(\"./gearset/data/T3_source_image.npy\").transpose((0,3,1,2))/255\n",
    "        F_1 = np.load(\"./gearset/data/T3_target_image.npy\").transpose((0,3,1,2))/255\n",
    "        Y_0 = np.load(\"./gearset/data/T3_source_label.npy\")\n",
    "        Y_1 = np.load(\"./gearset/data/T3_target_label.npy\")\n",
    "        Label_Name =[\"1-N\",\"3-BF&SI\",\"4-G&E\",\"Unknown\"]\n",
    "    F_0=torch.from_numpy(F_0.astype(np.float32))\n",
    "    F_1=torch.from_numpy(F_1.astype(np.float32))\n",
    "    Y_0=torch.from_numpy(Y_0.astype(np.float32))\n",
    "    Y_1=torch.from_numpy(Y_1.astype(np.float32))\n",
    "    data_0 = Data.TensorDataset(F_0,Y_0)\n",
    "    data_1 = Data.TensorDataset(F_1,Y_1)\n",
    "    return data_0,data_1,F_0,F_1,Y_0,Y_1,Label_Name\n",
    "def Split(full_dataset):\n",
    "    test_size = 200\n",
    "    train_size = len(full_dataset) - test_size\n",
    "    train_dataset, test_dataset = torch.utils.data.random_split(full_dataset, [train_size, test_size])\n",
    "    return train_dataset, test_dataset"
   ]
  },
  {
   "cell_type": "markdown",
   "metadata": {},
   "source": [
    "# Model "
   ]
  },
  {
   "cell_type": "markdown",
   "metadata": {},
   "source": [
    "## Model defination"
   ]
  },
  {
   "cell_type": "code",
   "execution_count": 3,
   "metadata": {
    "scrolled": true
   },
   "outputs": [],
   "source": [
    "def cal_consist(pre1,pre2,pre3,pre4,pre5):\n",
    "    consist = np.zeros(pre1.shape)\n",
    "    p1 = pre1.cpu().detach().numpy()\n",
    "    p2 = pre2.cpu().detach().numpy()\n",
    "    p3 = pre3.cpu().detach().numpy()\n",
    "    p4 = pre4.cpu().detach().numpy()\n",
    "    p5 = pre5.cpu().detach().numpy()\n",
    "    for i in range(pre1.shape[1]):\n",
    "        for j in range(pre1.shape[0]):\n",
    "            consist[j,i] = np.std([p1[j,i],p2[j,i],p3[j,i],p4[j,i],p5[j,i]])\n",
    "    return consist\n",
    "def step_1(source_loader, target_loader,net,G_D,data_num):\n",
    "    step = 0\n",
    "    acc = 0\n",
    "    while step <150:\n",
    "        for (i, ((im_source, label_source), (im_target, label_target))) in enumerate (zip(source_loader, target_loader)):\n",
    "            fs1, feature_source, predict_prob_source = net.forward(im_source.cuda())\n",
    "            ft1, feature_target, predict_prob_target = net.forward(im_target.cuda())\n",
    "            coarse_source = G_D.forward(fs1)\n",
    "            coarse_target = G_D.forward(ft1)\n",
    "            c1_s = G_C1.forward(fs1)\n",
    "            c1_t = G_C1.forward(ft1)            \n",
    "            c2_s = G_C2.forward(fs1)\n",
    "            c2_t = G_C2.forward(ft1)                \n",
    "            c3_s = G_C3.forward(fs1)\n",
    "            c3_t = G_C3.forward(ft1)               \n",
    "            c4_s = G_C4.forward(fs1)\n",
    "            c4_t = G_C4.forward(ft1)                \n",
    "            c5_s = G_C5.forward(fs1)\n",
    "            c5_t = G_C5.forward(ft1)                \n",
    "            # =========================loss function\n",
    "            ce = CrossEntropyLoss(label_source.cuda(), predict_prob_source.cuda())\n",
    "            d1 = BCELossForMultiClassification(label_source[:,0:num_class].cuda(),coarse_source.cuda())\n",
    "            c1 = BCELossForMultiClassification(label_source[:,0:num_class].cuda(),c1_s.cuda())\n",
    "            c2 = BCELossForMultiClassification(label_source[:,0:num_class].cuda(),c2_s.cuda())\n",
    "            c3 = BCELossForMultiClassification(label_source[:,0:num_class].cuda(),c3_s.cuda())\n",
    "            c4 = BCELossForMultiClassification(label_source[:,0:num_class].cuda(),c4_s.cuda())\n",
    "            c5 = BCELossForMultiClassification(label_source[:,0:num_class].cuda(),c5_s.cuda())\n",
    "            with OptimizerManager([optimizer_G_F,optimizer_G_C,optimizer_G_D,\n",
    "                                   optimizer_G_C1,optimizer_G_C2,optimizer_G_C3,optimizer_G_C4,optimizer_G_C5]):\n",
    "                loss = ce + d1 + c1 + c2 + c3 + c4 + c5  \n",
    "                loss.backward()\n",
    "            step += 1\n",
    "            if step % 10 == 1:\n",
    "                acc_test = accuracy_score(np.argmax(predict_prob_target.cpu().detach().numpy(),axis = -1),\n",
    "                                          np.argmax(label_target.cpu().detach().numpy(),axis = -1))\n",
    "                if acc_test>=acc:\n",
    "                    acc = acc_test\n",
    "                    torch.save(net.state_dict(), './models/Compared_Methods_CMU_net.pkl')\n",
    "                    torch.save(G_D.state_dict(), './models/Compared_Methods_CMU_D.pkl')\n",
    "                    torch.save(G_F.state_dict(), './models/Compared_Methods_CMU_F.pkl')\n",
    "                    torch.save(G_C1.state_dict(), './models/Compared_Methods_CMU_C1.pkl')\n",
    "                    torch.save(G_C2.state_dict(),  './models/Compared_Methods_CMU_C2.pkl')\n",
    "                    torch.save(G_C3.state_dict(),  './models/Compared_Methods_CMU_C3.pkl')\n",
    "                    torch.save(G_C4.state_dict(), './models/Compared_Methods_CMU_C4.pkl')\n",
    "                    torch.save(G_C5.state_dict(),  './models/Compared_Methods_CMU_C5.pkl')\n",
    "                    best_net_path = './models/Compared_Methods_CMU_net.pkl'\n",
    "                    best_G_D_path = './models/Compared_Methods_CMU_D.pkl'\n",
    "                    best_G_C1_path = './models/Compared_Methods_CMU_C1.pkl'\n",
    "                    best_G_C2_path = './models/Compared_Methods_CMU_C2.pkl'\n",
    "                    best_G_C3_path = './models/Compared_Methods_CMU_C3.pkl'\n",
    "                    best_G_C4_path = './models/Compared_Methods_CMU_C4.pkl'\n",
    "                    best_G_C5_path = './models/Compared_Methods_CMU_C5.pkl'\n",
    "    return best_net_path,best_G_D_path,best_G_C1_path,best_G_C2_path,best_G_C3_path,best_G_C4_path,best_G_C5_path\n",
    "\n",
    "def step_2(best_net_path,best_G_D_path,best_G_C1_path,best_G_C2_path,best_G_C3_path,best_G_C4_path,best_G_C5_path,batch,source_loader,target_loader,data_num):\n",
    "    device = torch.device('cuda:0' if torch.cuda.is_available() else 'cpu')\n",
    "    net.load_state_dict(torch.load(best_net_path))\n",
    "    G_D.load_state_dict(torch.load(best_G_D_path))\n",
    "    G_C1.load_state_dict(torch.load(best_G_C1_path))\n",
    "    G_C2.load_state_dict(torch.load(best_G_C2_path))\n",
    "    G_C3.load_state_dict(torch.load(best_G_C3_path))\n",
    "    G_C4.load_state_dict(torch.load(best_G_C4_path))\n",
    "    G_C5.load_state_dict(torch.load(best_G_C5_path))\n",
    "    device = torch.device('cuda:0' if torch.cuda.is_available() else 'cpu')\n",
    "    k=0\n",
    "    acc = 0\n",
    "    minibatch = 10\n",
    "    while k <20:\n",
    "        for (i, ((im_source, label_source), (im_target, label_target))) in enumerate (zip(source_loader, target_loader)):        \n",
    "            fs1, feature_source, predict_prob_source = net.forward(im_source.cuda())\n",
    "            ft1, feature_target, predict_prob_target = net.forward(im_target.cuda())\n",
    "            pred= G_D.forward(ft1)\n",
    "            pre1= G_C1.forward(ft1)\n",
    "            pre2= G_C1.forward(ft1)\n",
    "            pre3= G_C1.forward(ft1)\n",
    "            pre4= G_C1.forward(ft1)\n",
    "            pre5= G_C1.forward(ft1)\n",
    "    # Confidence term \n",
    "            p1_confidence = torch.max(pred,axis = 1).values\n",
    "            w1_norm = (p1_confidence - torch.min(p1_confidence))/(torch.max(p1_confidence)-torch.min(p1_confidence)+1e-4)\n",
    "    # Entropy term\n",
    "            p1_entropy = entropy(pred.cpu().detach().numpy(),axis = 1)\n",
    "            p1_entropy = torch.tensor(p1_entropy)\n",
    "            w2_norm = 1 - ((p1_entropy - torch.min(p1_entropy))/(torch.max(p1_entropy)-torch.min(p1_entropy)+1e-4))\n",
    "    # Consistency term \n",
    "            consist = cal_consist(pre1,pre2,pre3,pre4,pre5)\n",
    "            cons = np.mean(consist,axis =1) \n",
    "            cons = torch.tensor(cons)\n",
    "            w3_norm = 1-((cons - torch.min(cons))/(torch.max(cons)-torch.min(cons)+1e-4))\n",
    "            cmu = (w1_norm.to(device) + w2_norm.to(device) + w3_norm.to(device))/3\n",
    "            minibatch = torch.sum(cmu<0.5).item()        \n",
    "            domain_prob_discriminator_1_source = D.forward(fs1)\n",
    "            domain_prob_discriminator_1_target = D.forward(ft1)\n",
    "            known = torch.sort(torch.tensor(cmu).cuda().detach(),dim = 0)[1][minibatch:]\n",
    "            unknown = torch.sort(torch.tensor(cmu).cuda().detach(),dim = 0)[1][0:minibatch]\n",
    "            feature_unknown = torch.index_select(ft1, 0, unknown)\n",
    "            _, __, predict_prob_otherep = G_C.forward(feature_unknown)\n",
    "            ce = CrossEntropyLoss(label_source.cuda(), predict_prob_source.cuda())\n",
    "            ce_ep = CrossEntropyLoss(Variable(torch.from_numpy(np.concatenate((np.zeros((minibatch,num_class)), np.ones((minibatch,1))), axis = -1).astype('float32'))).cuda(),predict_prob_otherep)\n",
    "            adv_loss = BCELossForMultiClassification(label=torch.ones_like(domain_prob_discriminator_1_source), predict_prob=domain_prob_discriminator_1_source )\n",
    "            adv_loss += BCELossForMultiClassification(label=torch.ones_like(domain_prob_discriminator_1_target), predict_prob=1 - domain_prob_discriminator_1_target, instance_level_weight =cmu)\n",
    "            with OptimizerManager([optimizer_G_C,optimizer_G_F,optimizer_D,optimizer_G_D,\n",
    "                                   optimizer_G_C1,optimizer_G_C2,optimizer_G_C3,optimizer_G_C4,optimizer_G_C5]):\n",
    "                loss =  ce +  0.1*adv_loss + 0.1* ce_ep\n",
    "                loss.backward()\n",
    "            acc_test = accuracy_score(np.argmax(predict_prob_target.cpu().detach().numpy(),axis = -1),\n",
    "                                      np.argmax(label_target.cpu().detach().numpy(),axis = -1))\n",
    "            if acc_test>=acc:\n",
    "                acc = acc_test            \n",
    "                torch.save(net.state_dict(), './models/Compared_Methods_CMU_net.pkl')\n",
    "                torch.save(G_D.state_dict(), './models/Compared_Methods_CMU_D.pkl')\n",
    "                torch.save(G_C1.state_dict(), './models/Compared_Methods_CMU_C1.pkl')\n",
    "                torch.save(G_C2.state_dict(),  './models/Compared_Methods_CMU_C2.pkl')\n",
    "                torch.save(G_C3.state_dict(),  './models/Compared_Methods_CMU_C3.pkl')\n",
    "                torch.save(G_C4.state_dict(), './models/Compared_Methods_CMU_C4.pkl')\n",
    "                torch.save(G_C5.state_dict(),  './models/Compared_Methods_CMU_C5.pkl')\n",
    "                net_path = './models/Compared_Methods_CMU_net.pkl'\n",
    "                G_D_path = './models/Compared_Methods_CMU_D.pkl'\n",
    "                G_C1_path = './models/Compared_Methods_CMU_C1.pkl'\n",
    "                G_C2_path = './models/Compared_Methods_CMU_C2.pkl'\n",
    "                G_C3_path = './models/Compared_Methods_CMU_C3.pkl'\n",
    "                G_C4_path = './models/Compared_Methods_CMU_C4.pkl'\n",
    "                G_C5_path = './models/Compared_Methods_CMU_C5.pkl'          \n",
    "        k += 1\n",
    "    return net_path,G_D_path,G_C1_path,G_C2_path,G_C3_path,G_C4_path,G_C5_path    "
   ]
  },
  {
   "cell_type": "markdown",
   "metadata": {},
   "source": [
    "## Model initialization"
   ]
  },
  {
   "cell_type": "code",
   "execution_count": 4,
   "metadata": {
    "scrolled": true
   },
   "outputs": [],
   "source": [
    "data_num = 1\n",
    "data_0,data_1,F_0,F_1,Y_0,Y_1,Label_Name = get_dat(data_num)\n",
    "Train_0,Test_0 = Split(data_0)\n",
    "Train_1,Test_1 = Split(data_1)\n",
    "source_loader=Data.DataLoader(dataset=Train_0,batch_size=40,shuffle=True,num_workers=0)\n",
    "target_loader=Data.DataLoader(dataset=Train_1,batch_size=40,shuffle=True,num_workers=0)\n",
    "source_loader1=Data.DataLoader(dataset=Test_0,batch_size=40,shuffle=True,num_workers=0)\n",
    "target_loader1=Data.DataLoader(dataset=Test_1,batch_size=40,shuffle=True,num_workers=0)\n",
    "num_class = Y_0.shape[1]-1\n",
    "\n",
    "\n",
    "# Entropy and Confidence\n",
    "G_D = Discriminator(n = num_class).cuda()\n",
    "# Classifier \n",
    "G_F = CNN_2D().cuda()\n",
    "G_C= CLS(1024, Y_0.shape[1]).cuda()\n",
    "net = nn.Sequential(G_F, G_C).cuda()\n",
    "# Consistensy\n",
    "G_C1= Discriminator_1(n = num_class).cuda()\n",
    "G_C2= Discriminator_2(n = num_class).cuda()\n",
    "G_C3= Discriminator_3(n = num_class).cuda()\n",
    "G_C4= Discriminator_4(n = num_class).cuda()\n",
    "G_C5= Discriminator_5(n = num_class).cuda()\n",
    "# Domain adaptation\n",
    "D = LargeAdversarialNetwork(1024).cuda()\n",
    "\n",
    "scheduler = lambda step, initial_lr : inverseDecaySheduler(step, initial_lr, gamma=10, power=0.75, max_iter=10000)\n",
    "\n",
    "optimizer_G_D = OptimWithSheduler(optim.Adam(G_D.parameters(), lr=5e-4, weight_decay=5e-4),scheduler)\n",
    "optimizer_G_F = OptimWithSheduler(optim.Adam(G_F.parameters(), lr=5e-4, weight_decay=5e-4),scheduler)\n",
    "optimizer_G_C = OptimWithSheduler(optim.Adam(G_C.parameters(), lr=5e-4, weight_decay=5e-4),scheduler)\n",
    "optimizer_G_C1 = OptimWithSheduler(optim.Adam(G_C1.parameters(), lr=5e-4, weight_decay=5e-4),scheduler)\n",
    "optimizer_G_C2 = OptimWithSheduler(optim.Adam(G_C2.parameters(), lr=5e-4, weight_decay=5e-4),scheduler)\n",
    "optimizer_G_C3 = OptimWithSheduler(optim.Adam(G_C3.parameters(), lr=5e-4, weight_decay=5e-4),scheduler)\n",
    "optimizer_G_C4 = OptimWithSheduler(optim.Adam(G_C4.parameters(), lr=5e-4, weight_decay=5e-4),scheduler)\n",
    "optimizer_G_C5 = OptimWithSheduler(optim.Adam(G_C5.parameters(), lr=5e-4, weight_decay=5e-4),scheduler)\n",
    "optimizer_D = OptimWithSheduler(optim.Adam(D.parameters(), lr=1e-5, weight_decay=5e-4),scheduler)\n",
    "warnings.filterwarnings(\"ignore\")"
   ]
  },
  {
   "cell_type": "markdown",
   "metadata": {},
   "source": [
    "## Model training"
   ]
  },
  {
   "cell_type": "code",
   "execution_count": 5,
   "metadata": {
    "code_folding": [],
    "scrolled": true
   },
   "outputs": [],
   "source": [
    "best_net_path,best_G_D_path,best_G_C1_path,best_G_C2_path,best_G_C3_path,best_G_C4_path,best_G_C5_path = step_1(source_loader,target_loader,net,G_D,data_num)\n",
    "batch = 40\n",
    "net_path,G_D_path,G_C1_path,G_C2_path,G_C3_path,G_C4_path,G_C5_path  = step_2(best_net_path,best_G_D_path,best_G_C1_path,best_G_C2_path,best_G_C3_path,best_G_C4_path,best_G_C5_path,batch,source_loader,target_loader,data_num)"
   ]
  },
  {
   "cell_type": "markdown",
   "metadata": {},
   "source": [
    "# Performance visualization"
   ]
  },
  {
   "cell_type": "markdown",
   "metadata": {},
   "source": [
    "## The confusion matrix"
   ]
  },
  {
   "cell_type": "code",
   "execution_count": 6,
   "metadata": {
    "code_folding": [],
    "scrolled": false
   },
   "outputs": [
    {
     "data": {
      "image/png": "[encoded data removed]",
      "text/plain": [
       "<Figure size 500x500 with 1 Axes>"
      ]
     },
     "metadata": {
      "needs_background": "light"
     },
     "output_type": "display_data"
    }
   ],
   "source": [
    "net_path = './models/Compared_Methods_CMU_net.pkl'\n",
    "net.load_state_dict(torch.load(net_path))\n",
    "\n",
    "True_label = []\n",
    "Pred_Label = []\n",
    "for (i, (im, label)) in enumerate(target_loader1):\n",
    "\n",
    "    ss, _,  predict_prob = net.forward(im.cuda())\n",
    "    \n",
    "    label = np.argmax(label, axis=-1).reshape(-1, 1)\n",
    "    predict_index = np.argmax(predict_prob.cpu().detach().numpy(), axis=-1).reshape(-1, 1)\n",
    "    \n",
    "    True_label.append(np.array(label.flatten()))\n",
    "    Pred_Label.append(np.array(predict_index.flatten()))\n",
    "\n",
    "y_true = np.array(True_label).reshape((200,))\n",
    "y_pred = np.array(Pred_Label).reshape((200,))\n",
    "\n",
    "m = confusion_matrix(y_true,y_pred)\n",
    "f, ax = plt.subplots(figsize=(5,5),dpi=100)\n",
    "ax= sns.heatmap(m,vmin=0, vmax=25,cmap='Blues',annot=True,fmt='',linewidths=.5,square=True,cbar=None,annot_kws={\"size\":16})\n",
    "plt.xticks(fontsize= 16, fontfamily= \"Times New Roman\")                      \n",
    "plt.yticks(fontsize= 16, fontfamily= \"Times New Roman\") \n",
    "plt.margins(0, 0)\n",
    "ax.set_xticklabels(Label_Name,rotation=30)\n",
    "ax.set_yticklabels(Label_Name,rotation=0)\n",
    "\n",
    "plt.margins(0, 0)"
   ]
  },
  {
   "cell_type": "markdown",
   "metadata": {},
   "source": [
    "## The accuracy"
   ]
  },
  {
   "cell_type": "code",
   "execution_count": 7,
   "metadata": {
    "scrolled": false
   },
   "outputs": [
    {
     "name": "stdout",
     "output_type": "stream",
     "text": [
      "The accuracy on all the known classes: 0.95\n",
      "The accuracy on all the target classes: 0.9441340782122905\n"
     ]
    }
   ],
   "source": [
    "pred_y = []\n",
    "true_y = []\n",
    "NUM_CLASSES = Y_1.shape[1]\n",
    "with torch.no_grad():\n",
    "    for batch_idx, (data, target) in enumerate(target_loader1):\n",
    "        data, target = data.cuda(), target.cuda(non_blocking=True)\n",
    "        ss, _,  predict_prob = net(data)\n",
    "        pred = predict_prob.max(1, keepdim=True)[1] \n",
    "        for i in range(len(pred)):\n",
    "            pred_y.append(pred[i].item())\n",
    "            true_y.append(torch.argmax(target[i]).item())\n",
    "a,b = utils.cal_acc(true_y, pred_y, NUM_CLASSES)\n",
    "print(\"The accuracy on all the known classes: \"+str(a))\n",
    "print(\"The accuracy on all the target classes: \"+str(b))"
   ]
  }
 ],
 "metadata": {
  "kernelspec": {
   "display_name": "pytorch",
   "language": "python",
   "name": "pytorch"
  },
  "language_info": {
   "codemirror_mode": {
    "name": "ipython",
    "version": 3
   },
   "file_extension": ".py",
   "mimetype": "text/x-python",
   "name": "python",
   "nbconvert_exporter": "python",
   "pygments_lexer": "ipython3",
   "version": "3.7.10"
  },
  "toc": {
   "base_numbering": 1,
   "nav_menu": {},
   "number_sections": true,
   "sideBar": true,
   "skip_h1_title": false,
   "title_cell": "Table of Contents",
   "title_sidebar": "Contents",
   "toc_cell": false,
   "toc_position": {
    "height": "calc(100% - 180px)",
    "left": "10px",
    "top": "150px",
    "width": "384px"
   },
   "toc_section_display": true,
   "toc_window_display": true
  },
  "varInspector": {
   "cols": {
    "lenName": 16,
    "lenType": 16,
    "lenVar": 40
   },
   "kernels_config": {
    "python": {
     "delete_cmd_postfix": "",
     "delete_cmd_prefix": "del ",
     "library": "var_list.py",
     "varRefreshCmd": "print(var_dic_list())"
    },
    "r": {
     "delete_cmd_postfix": ") ",
     "delete_cmd_prefix": "rm(",
     "library": "var_list.r",
     "varRefreshCmd": "cat(var_dic_list()) "
    }
   },
   "types_to_exclude": [
    "module",
    "function",
    "builtin_function_or_method",
    "instance",
    "_Feature"
   ],
   "window_display": false
  }
 },
 "nbformat": 4,
 "nbformat_minor": 4
}
