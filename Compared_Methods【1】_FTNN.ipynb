{
 "cells": [
  {
   "cell_type": "markdown",
   "metadata": {},
   "source": [
    "# Import modules"
   ]
  },
  {
   "cell_type": "code",
   "execution_count": 1,
   "metadata": {
    "scrolled": false
   },
   "outputs": [
    {
     "name": "stderr",
     "output_type": "stream",
     "text": [
      "C:\\Users\\phoen\\Anaconda3\\envs\\pytorch\\lib\\site-packages\\tensorflow\\python\\framework\\dtypes.py:516: FutureWarning: Passing (type, 1) or '1type' as a synonym of type is deprecated; in a future version of numpy, it will be understood as (type, (1,)) / '(1,)type'.\n",
      "  _np_qint8 = np.dtype([(\"qint8\", np.int8, 1)])\n",
      "C:\\Users\\phoen\\Anaconda3\\envs\\pytorch\\lib\\site-packages\\tensorflow\\python\\framework\\dtypes.py:517: FutureWarning: Passing (type, 1) or '1type' as a synonym of type is deprecated; in a future version of numpy, it will be understood as (type, (1,)) / '(1,)type'.\n",
      "  _np_quint8 = np.dtype([(\"quint8\", np.uint8, 1)])\n",
      "C:\\Users\\phoen\\Anaconda3\\envs\\pytorch\\lib\\site-packages\\tensorflow\\python\\framework\\dtypes.py:518: FutureWarning: Passing (type, 1) or '1type' as a synonym of type is deprecated; in a future version of numpy, it will be understood as (type, (1,)) / '(1,)type'.\n",
      "  _np_qint16 = np.dtype([(\"qint16\", np.int16, 1)])\n",
      "C:\\Users\\phoen\\Anaconda3\\envs\\pytorch\\lib\\site-packages\\tensorflow\\python\\framework\\dtypes.py:519: FutureWarning: Passing (type, 1) or '1type' as a synonym of type is deprecated; in a future version of numpy, it will be understood as (type, (1,)) / '(1,)type'.\n",
      "  _np_quint16 = np.dtype([(\"quint16\", np.uint16, 1)])\n",
      "C:\\Users\\phoen\\Anaconda3\\envs\\pytorch\\lib\\site-packages\\tensorflow\\python\\framework\\dtypes.py:520: FutureWarning: Passing (type, 1) or '1type' as a synonym of type is deprecated; in a future version of numpy, it will be understood as (type, (1,)) / '(1,)type'.\n",
      "  _np_qint32 = np.dtype([(\"qint32\", np.int32, 1)])\n",
      "C:\\Users\\phoen\\Anaconda3\\envs\\pytorch\\lib\\site-packages\\tensorflow\\python\\framework\\dtypes.py:525: FutureWarning: Passing (type, 1) or '1type' as a synonym of type is deprecated; in a future version of numpy, it will be understood as (type, (1,)) / '(1,)type'.\n",
      "  np_resource = np.dtype([(\"resource\", np.ubyte, 1)])\n",
      "C:\\Users\\phoen\\Anaconda3\\envs\\pytorch\\lib\\site-packages\\tensorboard\\compat\\tensorflow_stub\\dtypes.py:541: FutureWarning: Passing (type, 1) or '1type' as a synonym of type is deprecated; in a future version of numpy, it will be understood as (type, (1,)) / '(1,)type'.\n",
      "  _np_qint8 = np.dtype([(\"qint8\", np.int8, 1)])\n",
      "C:\\Users\\phoen\\Anaconda3\\envs\\pytorch\\lib\\site-packages\\tensorboard\\compat\\tensorflow_stub\\dtypes.py:542: FutureWarning: Passing (type, 1) or '1type' as a synonym of type is deprecated; in a future version of numpy, it will be understood as (type, (1,)) / '(1,)type'.\n",
      "  _np_quint8 = np.dtype([(\"quint8\", np.uint8, 1)])\n",
      "C:\\Users\\phoen\\Anaconda3\\envs\\pytorch\\lib\\site-packages\\tensorboard\\compat\\tensorflow_stub\\dtypes.py:543: FutureWarning: Passing (type, 1) or '1type' as a synonym of type is deprecated; in a future version of numpy, it will be understood as (type, (1,)) / '(1,)type'.\n",
      "  _np_qint16 = np.dtype([(\"qint16\", np.int16, 1)])\n",
      "C:\\Users\\phoen\\Anaconda3\\envs\\pytorch\\lib\\site-packages\\tensorboard\\compat\\tensorflow_stub\\dtypes.py:544: FutureWarning: Passing (type, 1) or '1type' as a synonym of type is deprecated; in a future version of numpy, it will be understood as (type, (1,)) / '(1,)type'.\n",
      "  _np_quint16 = np.dtype([(\"quint16\", np.uint16, 1)])\n",
      "C:\\Users\\phoen\\Anaconda3\\envs\\pytorch\\lib\\site-packages\\tensorboard\\compat\\tensorflow_stub\\dtypes.py:545: FutureWarning: Passing (type, 1) or '1type' as a synonym of type is deprecated; in a future version of numpy, it will be understood as (type, (1,)) / '(1,)type'.\n",
      "  _np_qint32 = np.dtype([(\"qint32\", np.int32, 1)])\n",
      "C:\\Users\\phoen\\Anaconda3\\envs\\pytorch\\lib\\site-packages\\tensorboard\\compat\\tensorflow_stub\\dtypes.py:550: FutureWarning: Passing (type, 1) or '1type' as a synonym of type is deprecated; in a future version of numpy, it will be understood as (type, (1,)) / '(1,)type'.\n",
      "  np_resource = np.dtype([(\"resource\", np.ubyte, 1)])\n"
     ]
    },
    {
     "name": "stdout",
     "output_type": "stream",
     "text": [
      "WARNING:tensorflow:From C:\\Users\\phoen\\Anaconda3\\envs\\pytorch\\lib\\site-packages\\tensorlayer\\layers.py:1094: The name tf.nn.max_pool is deprecated. Please use tf.nn.max_pool2d instead.\n",
      "\n"
     ]
    }
   ],
   "source": [
    "from Model import *\n",
    "from utilities import *\n",
    "from sklearn.metrics import accuracy_score,confusion_matrix\n",
    "from torch.optim import Adam\n",
    "from torch.autograd import Variable\n",
    "import seaborn as sns\n",
    "import matplotlib.pyplot as plt\n",
    "import numpy as np\n",
    "import torch.utils.data as Data\n",
    "import copy\n",
    "import utils\n",
    "import time\n",
    "import torch\n",
    "import torch.nn as nn\n",
    "import pandas as pd\n",
    "import math\n",
    "import torch.nn.functional as F\n",
    "import warnings\n",
    "warnings.filterwarnings(\"ignore\")"
   ]
  },
  {
   "cell_type": "markdown",
   "metadata": {},
   "source": [
    "# Build the dataset"
   ]
  },
  {
   "cell_type": "code",
   "execution_count": 2,
   "metadata": {
    "code_folding": [],
    "scrolled": true
   },
   "outputs": [],
   "source": [
    "def get_dat(data_num):\n",
    "    if data_num == 1:\n",
    "        F_0 = np.load(\"./bearingset/data/T1_source_image.npy\").transpose((0,3,1,2))/255\n",
    "        F_1 = np.load(\"./bearingset/data/T1_target_image.npy\").transpose((0,3,1,2))/255\n",
    "        Y_0 = np.load(\"./bearingset/data/T1_source_label.npy\")\n",
    "        Y_1 = np.load(\"./bearingset/data/T1_target_label.npy\")\n",
    "        Label_Name =[\"1-OSF\",\"2-OSP\",\"3-ORF\",\"4-ISF\",\"6-IORF\",\"7-IORP\",\"8-H\",\"Unknown\"]\n",
    "    if data_num == 2:\n",
    "        F_0 = np.load(\"./bearingset/data/T2_source_image.npy\").transpose((0,3,1,2))/255\n",
    "        F_1 = np.load(\"./bearingset/data/T2_target_image.npy\").transpose((0,3,1,2))/255\n",
    "        Y_0 = np.load(\"./bearingset/data/T2_source_label.npy\")\n",
    "        Y_1 = np.load(\"./bearingset/data/T2_target_label.npy\")\n",
    "        Label_Name =[\"1-OSF\",\"3-ORF\",\"4-ISF\",\"6-IORF\",\"7-IORP\",\"8-H\",\"Unknown\"]\n",
    "    if data_num == 3:\n",
    "        F_0 = np.load(\"./bearingset/data/T3_source_image.npy\").transpose((0,3,1,2))/255\n",
    "        F_1 = np.load(\"./bearingset/data/T3_target_image.npy\").transpose((0,3,1,2))/255\n",
    "        Y_0 = np.load(\"./bearingset/data/T3_source_label.npy\")\n",
    "        Y_1 = np.load(\"./bearingset/data/T3_target_label.npy\")\n",
    "        Label_Name =[\"1-OSF\",\"2-OSP\",\"3-ORF\",\"4-ISF\",\"5-IRF\",\"Unknown\"]\n",
    "    if data_num == 4:\n",
    "        F_0 = np.load(\"./bearingset/data/T4_source_image.npy\").transpose((0,3,1,2))/255\n",
    "        F_1 = np.load(\"./bearingset/data/T4_target_image.npy\").transpose((0,3,1,2))/255\n",
    "        Y_0 = np.load(\"./bearingset/data/T4_source_label.npy\")\n",
    "        Y_1 = np.load(\"./bearingset/data/T4_target_label.npy\")\n",
    "        Label_Name =[\"1-OSF\",\"4-ISF\",\"6-IORF\",\"8-H\",\"Unknown\"]\n",
    "    if data_num == 5:\n",
    "        F_0 = np.load(\"./gearset/data/T1_source_image.npy\").transpose((0,3,1,2))/255\n",
    "        F_1 = np.load(\"./gearset/data/T1_target_image.npy\").transpose((0,3,1,2))/255\n",
    "        Y_0 = np.load(\"./gearset/data/T1_source_label.npy\")\n",
    "        Y_1 = np.load(\"./gearset/data/T1_target_label.npy\")\n",
    "        Label_Name =[\"1-N\",\"3-BF&SI\",\"4-G&E\",\"Unknown\"]\n",
    "    if data_num == 6:\n",
    "        F_0 = np.load(\"./gearset/data/T2_source_image.npy\").transpose((0,3,1,2))/255\n",
    "        F_1 = np.load(\"./gearset/data/T2_target_image.npy\").transpose((0,3,1,2))/255\n",
    "        Y_0 = np.load(\"./gearset/data/T2_source_label.npy\")\n",
    "        Y_1 = np.load(\"./gearset/data/T2_target_label.npy\")\n",
    "        Label_Name =[\"1-N\",\"3-BF&SI\",\"4-G&E\",\"Unknown\"]\n",
    "    if data_num == 7:\n",
    "        F_0 = np.load(\"./gearset/data/T3_source_image.npy\").transpose((0,3,1,2))/255\n",
    "        F_1 = np.load(\"./gearset/data/T3_target_image.npy\").transpose((0,3,1,2))/255\n",
    "        Y_0 = np.load(\"./gearset/data/T3_source_label.npy\")\n",
    "        Y_1 = np.load(\"./gearset/data/T3_target_label.npy\")\n",
    "        Label_Name =[\"1-N\",\"3-BF&SI\",\"4-G&E\",\"Unknown\"]\n",
    "    F_0=torch.from_numpy(F_0.astype(np.float32))\n",
    "    F_1=torch.from_numpy(F_1.astype(np.float32))\n",
    "    Y_0=torch.from_numpy(Y_0.astype(np.float32))\n",
    "    Y_1=torch.from_numpy(Y_1.astype(np.float32))\n",
    "    data_0 = Data.TensorDataset(F_0,Y_0)\n",
    "    data_1 = Data.TensorDataset(F_1,Y_1)\n",
    "    return data_0,data_1,F_0,F_1,Y_0,Y_1,Label_Name\n",
    "def Split(full_dataset):\n",
    "    test_size = 200\n",
    "    train_size = len(full_dataset) - test_size\n",
    "    train_dataset, test_dataset = torch.utils.data.random_split(full_dataset, [train_size, test_size])\n",
    "    return train_dataset, test_dataset"
   ]
  },
  {
   "cell_type": "markdown",
   "metadata": {},
   "source": [
    "# Model building"
   ]
  },
  {
   "cell_type": "markdown",
   "metadata": {},
   "source": [
    "## MMD Kernel defination"
   ]
  },
  {
   "cell_type": "code",
   "execution_count": 3,
   "metadata": {
    "scrolled": true
   },
   "outputs": [],
   "source": [
    "def guassian_kernel(source, target, kernel_mul=2.0, kernel_num=5, fix_sigma=None):\n",
    "    n_samples = int(source.size()[0])+int(target.size()[0])\n",
    "    total = torch.cat([source, target], dim=0)\n",
    "    total0 = total.unsqueeze(0).expand(int(total.size(0)), int(total.size(0)), int(total.size(1)))\n",
    "    total1 = total.unsqueeze(1).expand(int(total.size(0)), int(total.size(0)), int(total.size(1)))\n",
    "    L2_distance = ((total0-total1)**2).sum(2)\n",
    "    if fix_sigma:\n",
    "        bandwidth = fix_sigma\n",
    "    else:\n",
    "        bandwidth = torch.sum(L2_distance.data) / (n_samples**2-n_samples)\n",
    "    bandwidth /= kernel_mul ** (kernel_num // 2)\n",
    "    bandwidth_list = [bandwidth * (kernel_mul**i) for i in range(kernel_num)]\n",
    "    kernel_val = [torch.exp(-L2_distance / bandwidth_temp) for bandwidth_temp in bandwidth_list]\n",
    "    return sum(kernel_val)#/len(kernel_val)\n",
    "\n",
    "def mmd_rbf_accelerate(source, target, kernel_mul=2.0, kernel_num=5, fix_sigma=None):\n",
    "    batch_size = int(source.size()[0])\n",
    "    kernels = guassian_kernel(source, target,\n",
    "        kernel_mul=kernel_mul, kernel_num=kernel_num, fix_sigma=fix_sigma)\n",
    "    loss = 0\n",
    "    for i in range(batch_size):\n",
    "        s1, s2 = i, (i+1)%batch_size\n",
    "        t1, t2 = s1+batch_size, s2+batch_size\n",
    "        loss += kernels[s1, s2] + kernels[t1, t2]\n",
    "        loss -= kernels[s1, t2] + kernels[s2, t1]\n",
    "    return loss / float(batch_size)\n",
    "def mmd_rbf_noaccelerate(source, target, kernel_mul=2.0, kernel_num=5, fix_sigma=None):\n",
    "    batch_size = int(source.size()[0])\n",
    "    kernels = guassian_kernel(source, target,\n",
    "                              kernel_mul=kernel_mul, kernel_num=kernel_num, fix_sigma=fix_sigma)\n",
    "    XX = kernels[:batch_size, :batch_size]\n",
    "    YY = kernels[batch_size:, batch_size:]\n",
    "    XY = kernels[:batch_size, batch_size:]\n",
    "    YX = kernels[batch_size:, :batch_size]\n",
    "    loss = torch.mean(XX + YY - XY -YX)\n",
    "    return loss"
   ]
  },
  {
   "cell_type": "markdown",
   "metadata": {},
   "source": [
    "## Feature extractor building"
   ]
  },
  {
   "cell_type": "code",
   "execution_count": 4,
   "metadata": {
    "scrolled": true
   },
   "outputs": [],
   "source": [
    "class CNN_Gear(nn.Module):\n",
    "\n",
    "    def __init__(self):\n",
    "        super(CNN_Gear, self).__init__()\n",
    "        self.conv1 = nn.Sequential(\n",
    "            nn.Conv2d(3,256, kernel_size=(4,4),stride=2,padding=1),\n",
    "            nn.LeakyReLU(),\n",
    "            nn.Dropout (p=0.5))\n",
    "        self.conv2 = nn.Sequential(\n",
    "            nn.Conv2d(256, 512,kernel_size=(3,3),stride=2,padding=1),\n",
    "            nn.LeakyReLU())\n",
    "            #nn.Dropout (p=0.25))\n",
    "        self.conv3 = nn.Sequential(\n",
    "            nn.Conv2d(512, 128, kernel_size=(3,3),stride=2, padding=1),\n",
    "            nn.LeakyReLU())\n",
    "            #nn.Dropout (p=0.25))\n",
    "        self.conv4 = nn.Sequential(\n",
    "            nn.Conv2d(128,64, kernel_size=(3,3),stride=2, padding=1),\n",
    "            nn.LeakyReLU(),\n",
    "            nn.Dropout (p=0.5))\n",
    "        self.fc = nn.Sequential(\n",
    "            nn.Linear(64*16, 1024))\n",
    "        self.flatten= nn.Flatten()\n",
    "\n",
    "    def forward(self, x):\n",
    "        x_conv1 = self.conv1(x)\n",
    "        x_conv1_feature = self.flatten(x_conv1)\n",
    "        \n",
    "        x_conv2 = self.conv2(x_conv1)\n",
    "        x_conv2_feature = self.flatten(x_conv2)\n",
    "        \n",
    "        x_conv3 = self.conv3(x_conv2)\n",
    "        x_conv3_feature = self.flatten(x_conv3)\n",
    "        \n",
    "        x_conv4 = self.conv4(x_conv3)\n",
    "        x_conv4_feature = self.flatten(x_conv4)\n",
    "        \n",
    "        x_conv4 = x_conv4.view(x_conv4.size(0), 64*16)\n",
    "        x_main = self.fc(x_conv4)\n",
    "        \n",
    "        return x_main,x_conv3_feature,x_conv4_feature\n",
    "        \n",
    "class CNN_Bearing(nn.Module):\n",
    "\n",
    "    def __init__(self):\n",
    "        super(CNN_Bearing, self).__init__()\n",
    "        self.conv1 = nn.Sequential(\n",
    "            nn.Conv2d(3,128, kernel_size=(3,3), padding=0),\n",
    "            nn.ReLU(inplace=True))\n",
    "            #nn.Dropout (p=0.25))\n",
    "        self.conv2 = nn.Sequential(\n",
    "            nn.Conv2d(128, 64, kernel_size=(3,3), padding=0),\n",
    "            nn.ReLU(inplace=True))\n",
    "            #nn.Dropout (p=0.25))\n",
    "        self.conv3 = nn.Sequential(\n",
    "            nn.Conv2d(64, 32, kernel_size=(3,3), padding=0),\n",
    "            nn.ReLU(inplace=True))\n",
    "            #nn.Dropout (p=0.25))\n",
    "        self.conv4 = nn.Sequential(\n",
    "            nn.Conv2d(32, 32, kernel_size=(3,3), padding=0),\n",
    "            nn.ReLU(inplace=True))\n",
    "            #nn.Dropout (p=0.25))\n",
    "        self.conv5 = nn.Sequential(\n",
    "            nn.Conv2d(32, 16, kernel_size=(3,3), padding=0),\n",
    "            nn.ReLU(inplace=True),\n",
    "            nn.Dropout (p=0.5))\n",
    "        self.fc = nn.Sequential(\n",
    "            nn.Linear(16 *2916, 1024))\n",
    "        self.flatten= nn.Flatten()\n",
    "\n",
    "    def forward(self, x):\n",
    "        x_conv1 = self.conv1(x)\n",
    "        x_conv1_feature = self.flatten(x_conv1)\n",
    "        \n",
    "        x_conv2 = self.conv2(x_conv1)\n",
    "        x_conv2_feature = self.flatten(x_conv2)\n",
    "        \n",
    "        x_conv3 = self.conv3(x_conv2)\n",
    "        x_conv3_feature = self.flatten(x_conv3)\n",
    "        \n",
    "        x_conv4 = self.conv4(x_conv3)\n",
    "        x_conv4_feature = self.flatten(x_conv4)\n",
    "        \n",
    "        x_conv5 = self.conv5(x_conv4)\n",
    "        x_conv5 = x_conv5.view(x_conv5.size(0), 16*2916)\n",
    "        \n",
    "        x_main = self.fc(x_conv5)\n",
    "\n",
    "        return x_main,x_conv3_feature,x_conv4_feature\n",
    "class FTNN(nn.Module):\n",
    "    def __init__(self,class_num):\n",
    "        super(FTNN, self).__init__()\n",
    "        self.sharedNet = CNN_Bearing()\n",
    "        self.fc1 = nn.Linear(1024,128)\n",
    "        self.cls_fc = nn.Linear(128,class_num)\n",
    "        self.soft = nn.Softmax(dim=-1)\n",
    "\n",
    "    def forward(self, source, target):\n",
    "        loss = 0\n",
    "        loss1 = 0\n",
    "        loss2 = 0\n",
    "        source,source_1,source_2 = self.sharedNet(source)  \n",
    "        if self.training == True:\n",
    "            target,target_1,target_2 = self.sharedNet(target)      \n",
    "            loss += mmd_rbf_noaccelerate(source, target)\n",
    "            loss1 += mmd_rbf_noaccelerate(source_1, target_1)\n",
    "            loss2 += mmd_rbf_noaccelerate(source_2, target_2)\n",
    "        source_cls = self.fc1(source)   \n",
    "        source_cls = self.cls_fc(source_cls)\n",
    "        source_cls = self.soft(source_cls)\n",
    "        return source_cls,loss,loss1,loss2"
   ]
  },
  {
   "cell_type": "markdown",
   "metadata": {},
   "source": [
    "## Model training defination "
   ]
  },
  {
   "cell_type": "code",
   "execution_count": 5,
   "metadata": {
    "scrolled": true
   },
   "outputs": [],
   "source": [
    "def train(model):\n",
    "    src_iter = iter(src_train_loader)\n",
    "    tgt_iter = iter(tgt_train_loader)\n",
    "    correct = 0\n",
    "    best_model_wts=copy.deepcopy(model.state_dict())\n",
    "    final_model_wts=copy.deepcopy(model.state_dict())\n",
    "    for i in range(1, iteration+1):\n",
    "        model.train()\n",
    "        LEARNING_RATE = lr / math.pow((1 + 10 * (i - 1) / (iteration)), 0.75)\n",
    "        if (i-1)%100==0:\n",
    "            print('learning rate{: .4f}'.format(LEARNING_RATE) )\n",
    "        optimizer = torch.optim.Adam([\n",
    "        {'params': model.sharedNet.parameters()},\n",
    "        {'params': model.cls_fc.parameters()},{'params': model.fc1.parameters()},{'params': model.soft.parameters()}\n",
    "        ], lr=LEARNING_RATE / 10, weight_decay=l2_decay)\n",
    "        try:\n",
    "            src_data, src_label = src_iter.next()\n",
    "        except Exception as err:\n",
    "            src_iter=iter(src_train_loader)\n",
    "            src_data, src_label = src_iter.next()\n",
    "            \n",
    "        try:\n",
    "            tgt_data, _ = tgt_iter.next()\n",
    "        except Exception as err:\n",
    "            tgt_iter=iter(tgt_train_loader)\n",
    "            tgt_data, _ = tgt_iter.next()\n",
    "            \n",
    "        if cuda:\n",
    "            src_data, src_label = src_data.cuda(), src_label.cuda()\n",
    "            tgt_data = tgt_data.cuda()\n",
    "        optimizer.zero_grad()\n",
    "        src_pred, mmd_loss1,mmd_loss2,mmd_loss3 = model(src_data, tgt_data)\n",
    "        cls_loss = CrossEntropyLoss(src_label.cuda(), src_pred.cuda())\n",
    "        mmd_loss = mmd_loss1+mmd_loss2+mmd_loss3\n",
    "        lambd = 1/ (1 + math.exp(-10 * (i) / iteration)) - 1\n",
    "        loss = cls_loss + lambd * (mmd_loss)\n",
    "        loss.backward()\n",
    "        optimizer.step()\n",
    "    return model"
   ]
  },
  {
   "cell_type": "markdown",
   "metadata": {},
   "source": [
    "## Model testing definaiton"
   ]
  },
  {
   "cell_type": "code",
   "execution_count": 6,
   "metadata": {
    "code_folding": [],
    "scrolled": true
   },
   "outputs": [],
   "source": [
    "def test(model):\n",
    "    model.eval()\n",
    "    test_loss = 0\n",
    "    correct = 0\n",
    "    with torch.no_grad():\n",
    "        for tgt_test_data, tgt_test_label in tgt_test_loader:\n",
    "            if cuda:\n",
    "                tgt_test_data, tgt_test_label = tgt_test_data.cuda(), tgt_test_label.cuda()\n",
    "                tgt_test_data, tgt_test_label = Variable(tgt_test_data), Variable(tgt_test_label)\n",
    "                tgt_pred, mmd_loss1,mmd_loss2,mmd_loss3 = model(tgt_test_data, tgt_test_data)\n",
    "                test_loss += CrossEntropyLoss(tgt_test_label.cuda(), tgt_pred.cuda()).item() # sum up batch loss\n",
    "                pred = tgt_pred.data.max(1)[1] # get the index of the max log-probability\n",
    "                correct += pred.eq(tgt_test_label.data.max(1)[1].view_as(pred)).cpu().sum()\n",
    "\n",
    "    test_loss /= tgt_dataset_len\n",
    "    print('\\n{} set: Average loss: {:.4f}, Accuracy: {}/{} ({:.2f}%)\\n'.format(\n",
    "        tgt_name, test_loss, correct, tgt_dataset_len,\n",
    "        100. * correct / tgt_dataset_len))\n",
    "    return correct"
   ]
  },
  {
   "cell_type": "markdown",
   "metadata": {},
   "source": [
    "# Model training"
   ]
  },
  {
   "cell_type": "code",
   "execution_count": 7,
   "metadata": {
    "scrolled": true
   },
   "outputs": [
    {
     "name": "stdout",
     "output_type": "stream",
     "text": [
      "FTNN(\n",
      "  (sharedNet): CNN_Bearing(\n",
      "    (conv1): Sequential(\n",
      "      (0): Conv2d(3, 128, kernel_size=(3, 3), stride=(1, 1))\n",
      "      (1): ReLU(inplace=True)\n",
      "    )\n",
      "    (conv2): Sequential(\n",
      "      (0): Conv2d(128, 64, kernel_size=(3, 3), stride=(1, 1))\n",
      "      (1): ReLU(inplace=True)\n",
      "    )\n",
      "    (conv3): Sequential(\n",
      "      (0): Conv2d(64, 32, kernel_size=(3, 3), stride=(1, 1))\n",
      "      (1): ReLU(inplace=True)\n",
      "    )\n",
      "    (conv4): Sequential(\n",
      "      (0): Conv2d(32, 32, kernel_size=(3, 3), stride=(1, 1))\n",
      "      (1): ReLU(inplace=True)\n",
      "    )\n",
      "    (conv5): Sequential(\n",
      "      (0): Conv2d(32, 16, kernel_size=(3, 3), stride=(1, 1))\n",
      "      (1): ReLU(inplace=True)\n",
      "      (2): Dropout(p=0.5, inplace=False)\n",
      "    )\n",
      "    (fc): Sequential(\n",
      "      (0): Linear(in_features=46656, out_features=1024, bias=True)\n",
      "    )\n",
      "    (flatten): Flatten(start_dim=1, end_dim=-1)\n",
      "  )\n",
      "  (fc1): Linear(in_features=1024, out_features=128, bias=True)\n",
      "  (cls_fc): Linear(in_features=128, out_features=8, bias=True)\n",
      "  (soft): Softmax(dim=-1)\n",
      ")\n",
      "learning rate 0.0004\n",
      "learning rate 0.0002\n",
      "learning rate 0.0001\n",
      "learning rate 0.0001\n",
      "learning rate 0.0001\n"
     ]
    }
   ],
   "source": [
    "task_num = 1\n",
    "\n",
    "iteration=500\n",
    "lr = 4e-4\n",
    "momentum = 0.9\n",
    "no_cuda =False\n",
    "seed = 8\n",
    "log_interval = 10\n",
    "l2_decay = 8e-4\n",
    "data_0,data_1,F_0,F_1,Y_0,Y_1,Label_Name = get_dat(task_num)\n",
    "Train_0,Test_0 = Split(data_0)\n",
    "Train_1,Test_1 = Split(data_1)\n",
    "src_train_loader=Data.DataLoader(dataset=Train_0,batch_size=10,shuffle=True,num_workers=0)\n",
    "tgt_train_loader=Data.DataLoader(dataset=Train_1,batch_size=10,shuffle=True,num_workers=0)\n",
    "src_test_loader=Data.DataLoader(dataset=Test_0,batch_size=10,shuffle=True,num_workers=0)\n",
    "tgt_test_loader=Data.DataLoader(dataset=Test_1,batch_size=10,shuffle=True,num_workers=0)\n",
    "model = FTNN(class_num=Y_0.shape[1])\n",
    "print(model)\n",
    "src_dataset_len = len(src_train_loader.dataset)\n",
    "tgt_dataset_len = len(tgt_test_loader.dataset)\n",
    "src_loader_len = len(src_train_loader)\n",
    "tgt_loader_len = len(tgt_train_loader)\n",
    "src_name = \"a\"\n",
    "tgt_name = \"b\"\n",
    "no_cuda =False\n",
    "cuda = not no_cuda and torch.cuda.is_available()\n",
    "if cuda:\n",
    "    model.cuda()\n",
    "my_net=train(model)"
   ]
  },
  {
   "cell_type": "markdown",
   "metadata": {},
   "source": [
    "# Performance visualization"
   ]
  },
  {
   "cell_type": "markdown",
   "metadata": {},
   "source": [
    "## The confusion matrix "
   ]
  },
  {
   "cell_type": "code",
   "execution_count": 8,
   "metadata": {
    "code_folding": [],
    "scrolled": false
   },
   "outputs": [
    {
     "data": {
      "image/png": "[encoded data removed]",
      "text/plain": [
       "<Figure size 500x500 with 1 Axes>"
      ]
     },
     "metadata": {
      "needs_background": "light"
     },
     "output_type": "display_data"
    }
   ],
   "source": [
    "my_net = model.cuda()\n",
    "True_label = []\n",
    "Pred_Label = []\n",
    "\n",
    "for (i, (im, label)) in enumerate(tgt_test_loader):\n",
    "\n",
    "    predict_prob,_,_,_ = my_net.forward(im.cuda(),im.cuda())\n",
    "    \n",
    "    label = np.argmax(label, axis=-1).reshape(-1, 1)\n",
    "    predict_index = np.argmax(predict_prob.cpu().detach().numpy(), axis=-1).reshape(-1, 1)\n",
    "    \n",
    "    True_label.append(np.array(label.flatten()))\n",
    "    Pred_Label.append(np.array(predict_index.flatten()))\n",
    "y_true = np.array(True_label).reshape((200,))\n",
    "y_pred = np.array(Pred_Label).reshape((200,))\n",
    "\n",
    "m = confusion_matrix(y_true,y_pred)\n",
    "f, ax = plt.subplots(figsize=(5,5),dpi=100)\n",
    "\n",
    "ax= sns.heatmap(m,vmin=0, vmax=40,cmap='Blues',annot=True,fmt='',linewidths=.5,square=True,cbar=None,annot_kws={\"size\":16})\n",
    "plt.xticks(fontsize= 16, fontfamily= \"Times New Roman\")                      \n",
    "plt.yticks(fontsize= 16, fontfamily= \"Times New Roman\") \n",
    "plt.margins(0, 0)\n",
    "ax.set_xticklabels(Label_Name,rotation=30)\n",
    "ax.set_yticklabels(Label_Name,rotation=0)\n",
    "\n",
    "plt.margins(0, 0)"
   ]
  },
  {
   "cell_type": "markdown",
   "metadata": {},
   "source": [
    "## The accuracy"
   ]
  },
  {
   "cell_type": "code",
   "execution_count": 9,
   "metadata": {},
   "outputs": [
    {
     "name": "stdout",
     "output_type": "stream",
     "text": [
      "The accuracy on all the known classes: 0.73\n",
      "The accuracy on all the target classes: 0.8588235294117647\n"
     ]
    }
   ],
   "source": [
    "pred_y = []\n",
    "true_y = []\n",
    "NUM_CLASSES = Y_1.shape[1]\n",
    "with torch.no_grad():\n",
    "    for tgt_test_data, tgt_test_label in tgt_test_loader:\n",
    "        if cuda:\n",
    "            tgt_test_data, tgt_test_label = tgt_test_data.cuda(), tgt_test_label.cuda()\n",
    "            tgt_test_data, tgt_test_label = Variable(tgt_test_data), Variable(tgt_test_label)\n",
    "            tgt_pred, mmd_loss1,mmd_loss2,mmd_loss3 = model(tgt_test_data, tgt_test_data)\n",
    "            pred = tgt_pred.max(1, keepdim=True)[1] \n",
    "        for i in range(len(pred)):\n",
    "            pred_y.append(pred[i].item())\n",
    "            true_y.append(torch.argmax(tgt_test_label[i]).item())\n",
    "a,b = utils.cal_acc(true_y, pred_y, NUM_CLASSES)\n",
    "print(\"The accuracy on all the known classes: \"+str(a))\n",
    "print(\"The accuracy on all the target classes: \"+str(b))"
   ]
  },
  {
   "cell_type": "markdown",
   "metadata": {},
   "source": [
    "# Model saving "
   ]
  },
  {
   "cell_type": "code",
   "execution_count": 10,
   "metadata": {},
   "outputs": [],
   "source": [
    "torch.save(model.state_dict(), './models/Compared_Methods_FTNN.pkl')"
   ]
  }
 ],
 "metadata": {
  "kernelspec": {
   "display_name": "pytorch",
   "language": "python",
   "name": "pytorch"
  },
  "language_info": {
   "codemirror_mode": {
    "name": "ipython",
    "version": 3
   },
   "file_extension": ".py",
   "mimetype": "text/x-python",
   "name": "python",
   "nbconvert_exporter": "python",
   "pygments_lexer": "ipython3",
   "version": "3.7.10"
  },
  "toc": {
   "base_numbering": 1,
   "nav_menu": {},
   "number_sections": true,
   "sideBar": true,
   "skip_h1_title": false,
   "title_cell": "Table of Contents",
   "title_sidebar": "Contents",
   "toc_cell": false,
   "toc_position": {
    "height": "calc(100% - 180px)",
    "left": "10px",
    "top": "150px",
    "width": "384px"
   },
   "toc_section_display": true,
   "toc_window_display": true
  },
  "varInspector": {
   "cols": {
    "lenName": 16,
    "lenType": 16,
    "lenVar": 40
   },
   "kernels_config": {
    "python": {
     "delete_cmd_postfix": "",
     "delete_cmd_prefix": "del ",
     "library": "var_list.py",
     "varRefreshCmd": "print(var_dic_list())"
    },
    "r": {
     "delete_cmd_postfix": ") ",
     "delete_cmd_prefix": "rm(",
     "library": "var_list.r",
     "varRefreshCmd": "cat(var_dic_list()) "
    }
   },
   "types_to_exclude": [
    "module",
    "function",
    "builtin_function_or_method",
    "instance",
    "_Feature"
   ],
   "window_display": false
  }
 },
 "nbformat": 4,
 "nbformat_minor": 4
}
